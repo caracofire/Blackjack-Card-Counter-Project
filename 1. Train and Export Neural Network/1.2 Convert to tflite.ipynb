{
 "cells": [
  {
   "cell_type": "code",
   "execution_count": 1,
   "id": "75807a30-d795-4a5d-893e-e84c37ddc5b2",
   "metadata": {},
   "outputs": [],
   "source": [
    "import tensorflow as tf\n",
    "import os"
   ]
  },
  {
   "cell_type": "code",
   "execution_count": 2,
   "id": "5dbe3674-c9b4-46b5-8e6a-be72242b895e",
   "metadata": {},
   "outputs": [],
   "source": [
    "# Convert the model\n",
    "saved_model_dir=os.path.join('trained_models','efficientdet_d1_coco17_tpu-32','inference_graph','saved_model')\n",
    "\n",
    "#saved_model_dir = os.path.join('trained_model','inference_graph','saved_model')\n",
    "converter = tf.lite.TFLiteConverter.from_saved_model(saved_model_dir) # path to the SavedModel directory\n",
    "converter.target_spec.supported_ops = [\n",
    "  tf.lite.OpsSet.TFLITE_BUILTINS, # enable TensorFlow Lite ops.\n",
    "  tf.lite.OpsSet.SELECT_TF_OPS # enable TensorFlow ops.\n",
    "]\n",
    "efficientdet_tflite_model = converter.convert()\n",
    "\n",
    "# Save the model.\n",
    "with open('model.tflite', 'wb') as f:\n",
    "  f.write(efficientdet_tflite_model)"
   ]
  },
  {
   "cell_type": "code",
   "execution_count": 6,
   "id": "fb888cfb-b302-45d0-b6f8-547c4280cc98",
   "metadata": {},
   "outputs": [],
   "source": [
    "#print(help(tf.lite.TFLiteConverter))"
   ]
  },
  {
   "cell_type": "code",
   "execution_count": 4,
   "id": "ccdbc615-4a7c-4acb-9438-c1def1c98be5",
   "metadata": {},
   "outputs": [],
   "source": [
    "model = tf.saved_model.load('trained_model/inference_graph/saved_model')"
   ]
  },
  {
   "cell_type": "code",
   "execution_count": null,
   "id": "d2ab8bf7-628f-40f8-bb26-8b33aeb3a562",
   "metadata": {},
   "outputs": [],
   "source": []
  },
  {
   "cell_type": "code",
   "execution_count": 5,
   "id": "40e44468-c124-412d-8cea-4a2ad29a5e68",
   "metadata": {},
   "outputs": [
    {
     "ename": "AttributeError",
     "evalue": "'_UserObject' object has no attribute 'CLASSIFY_INPUTS'",
     "output_type": "error",
     "traceback": [
      "\u001b[1;31m---------------------------------------------------------------------------\u001b[0m",
      "\u001b[1;31mAttributeError\u001b[0m                            Traceback (most recent call last)",
      "Input \u001b[1;32mIn [5]\u001b[0m, in \u001b[0;36m<cell line: 1>\u001b[1;34m()\u001b[0m\n\u001b[1;32m----> 1\u001b[0m \u001b[43mmodel\u001b[49m\u001b[38;5;241;43m.\u001b[39;49m\u001b[43mCLASSIFY_INPUTS\u001b[49m\n",
      "\u001b[1;31mAttributeError\u001b[0m: '_UserObject' object has no attribute 'CLASSIFY_INPUTS'"
     ]
    }
   ],
   "source": [
    "model.CLASSIFY_INPUTS"
   ]
  },
  {
   "cell_type": "code",
   "execution_count": null,
   "id": "5bd115fd-3c33-40f0-903f-da2e10534c44",
   "metadata": {},
   "outputs": [],
   "source": [
    "#python export_tflite_ssd_graph.py --pipeline_config_path=pretrained_models/efficientdet_d1_coco17_tpu-32/efficientnetpipeline.config trained_checkpoint_prefix=trained_models/efficientdet_d1_coco17_tpu-32 --output_directory=test --add_postprocessing_op=true"
   ]
  },
  {
   "cell_type": "code",
   "execution_count": null,
   "id": "e2c9c717-7003-4709-81be-ecbc9a917307",
   "metadata": {},
   "outputs": [],
   "source": [
    "python object_detection/export_tflite_ssd_graph.py \\\n",
    "--pipeline_config_path=$CONFIG_FILE \\\n",
    "--trained_checkpoint_prefix=$CHECKPOINT_PATH \\\n",
    "--output_directory=$OUTPUT_DIR \\\n",
    "--add_postprocessing_op=true"
   ]
  }
 ],
 "metadata": {
  "kernelspec": {
   "display_name": "Python 3 (ipykernel)",
   "language": "python",
   "name": "python3"
  },
  "language_info": {
   "codemirror_mode": {
    "name": "ipython",
    "version": 3
   },
   "file_extension": ".py",
   "mimetype": "text/x-python",
   "name": "python",
   "nbconvert_exporter": "python",
   "pygments_lexer": "ipython3",
   "version": "3.9.12"
  }
 },
 "nbformat": 4,
 "nbformat_minor": 5
}
