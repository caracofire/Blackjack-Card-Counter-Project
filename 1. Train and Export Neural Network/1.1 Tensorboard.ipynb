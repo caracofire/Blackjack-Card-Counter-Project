{
 "cells": [
  {
   "cell_type": "code",
   "execution_count": null,
   "id": "81c63b96-4ce0-449c-b2c8-b33258448999",
   "metadata": {},
   "outputs": [],
   "source": [
    "tensorboard\n",
    "\n",
    "\n",
    "python - m pip install protobuf==3.19.4\n",
    "tensorboard --logdir=trained_models/efficientdet_d1_coco17_tpu-32/\n",
    "\n",
    "http://localhost:6006/\n",
    "\n",
    "\n",
    "python - m pip install protobuf==3.20.1?"
   ]
  }
 ],
 "metadata": {
  "kernelspec": {
   "display_name": "Python 3 (ipykernel)",
   "language": "python",
   "name": "python3"
  },
  "language_info": {
   "codemirror_mode": {
    "name": "ipython",
    "version": 3
   },
   "file_extension": ".py",
   "mimetype": "text/x-python",
   "name": "python",
   "nbconvert_exporter": "python",
   "pygments_lexer": "ipython3",
   "version": "3.9.12"
  }
 },
 "nbformat": 4,
 "nbformat_minor": 5
}
