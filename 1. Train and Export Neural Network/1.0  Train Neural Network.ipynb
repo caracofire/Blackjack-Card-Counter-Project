{
 "cells": [
  {
   "cell_type": "markdown",
   "id": "86fff2a7-5c33-4f4c-82e6-cdb2592cf7ef",
   "metadata": {},
   "source": [
    "# Retrain object detection from jupyter for cleaner flow and tensorboard"
   ]
  },
  {
   "cell_type": "markdown",
   "id": "701599ec-7477-4f5b-9cd4-b4737a1364fc",
   "metadata": {},
   "source": [
    "# 1. Import Dependencies"
   ]
  },
  {
   "cell_type": "code",
   "execution_count": 1,
   "id": "d5b7425a-cfa1-4ef1-9338-443cf32ac6bc",
   "metadata": {},
   "outputs": [
    {
     "name": "stdout",
     "output_type": "stream",
     "text": [
      "Requirement already satisfied: wget in c:\\programdata\\anaconda3\\lib\\site-packages (3.2)\n"
     ]
    },
    {
     "name": "stderr",
     "output_type": "stream",
     "text": [
      "WARNING: Ignoring invalid distribution -rotobuf (c:\\users\\nperi\\appdata\\roaming\\python\\python39\\site-packages)\n",
      "WARNING: Ignoring invalid distribution - (c:\\users\\nperi\\appdata\\roaming\\python\\python39\\site-packages)\n",
      "WARNING: Ignoring invalid distribution -rotobuf (c:\\users\\nperi\\appdata\\roaming\\python\\python39\\site-packages)\n",
      "WARNING: Ignoring invalid distribution - (c:\\users\\nperi\\appdata\\roaming\\python\\python39\\site-packages)\n",
      "WARNING: Ignoring invalid distribution -rotobuf (c:\\users\\nperi\\appdata\\roaming\\python\\python39\\site-packages)\n",
      "WARNING: Ignoring invalid distribution - (c:\\users\\nperi\\appdata\\roaming\\python\\python39\\site-packages)\n",
      "WARNING: Ignoring invalid distribution -rotobuf (c:\\users\\nperi\\appdata\\roaming\\python\\python39\\site-packages)\n",
      "WARNING: Ignoring invalid distribution - (c:\\users\\nperi\\appdata\\roaming\\python\\python39\\site-packages)\n",
      "WARNING: Ignoring invalid distribution -rotobuf (c:\\users\\nperi\\appdata\\roaming\\python\\python39\\site-packages)\n",
      "WARNING: Ignoring invalid distribution - (c:\\users\\nperi\\appdata\\roaming\\python\\python39\\site-packages)\n",
      "WARNING: Ignoring invalid distribution -rotobuf (c:\\users\\nperi\\appdata\\roaming\\python\\python39\\site-packages)\n",
      "WARNING: Ignoring invalid distribution - (c:\\users\\nperi\\appdata\\roaming\\python\\python39\\site-packages)\n"
     ]
    }
   ],
   "source": [
    "import os\n",
    "!pip install wget\n",
    "import wget\n"
   ]
  },
  {
   "cell_type": "markdown",
   "id": "25626035-b99b-44c1-8f86-9691b6e18ab1",
   "metadata": {},
   "source": [
    "### 1.0 Clone Tensorflow model repo and Download model"
   ]
  },
  {
   "cell_type": "code",
   "execution_count": null,
   "id": "27ff4382-4309-4642-84ee-aeb4ce721447",
   "metadata": {},
   "outputs": [],
   "source": []
  },
  {
   "cell_type": "code",
   "execution_count": null,
   "id": "6d4ced9f-8aab-4890-a078-a37bb3d1c288",
   "metadata": {},
   "outputs": [],
   "source": [
    "!cd {os.getcwd()}\n",
    "!git clone https://github.com/tensorflow/models\n"
   ]
  },
  {
   "cell_type": "markdown",
   "id": "11c8b2e6-c3a2-464f-ad63-b7af41eb4d93",
   "metadata": {},
   "source": [
    "### 1.1 Download Protocol buffers and extract to protoc path"
   ]
  },
  {
   "cell_type": "code",
   "execution_count": null,
   "id": "3af92038-e255-4747-acc6-c457d3bb5262",
   "metadata": {},
   "outputs": [],
   "source": [
    "PROTOC_PATH = os.path.join('protoc')"
   ]
  },
  {
   "cell_type": "code",
   "execution_count": null,
   "id": "a35076da-3f38-4be5-8d10-6f04f0b1df38",
   "metadata": {},
   "outputs": [],
   "source": [
    "zip\n",
    "\n",
    "!cd {os.getcwd()}\n",
    "url=\"https://github.com/protocolbuffers/protobuf/releases/download/v21.2/protoc-21.2-win64.zip\"\n",
    "wget.download(url)\n",
    "PROTOC_PATH = os.path.join('protoc')\n",
    "!mkdir PROTOC\n",
    "!move protoc-21.2-win64.zip {PROTOC_PATH}\n",
    "!cd {PROTOC_PATH} && tar -xf protoc-21.2-win64.zip\n",
    "os.environ['PATH'] += os.pathsep + os.path.abspath(os.path.join(PROTOC_PATH, 'bin')) \n"
   ]
  },
  {
   "cell_type": "markdown",
   "id": "b4e1a400-5723-411e-aed5-74e04d6cffab",
   "metadata": {},
   "source": [
    "### 1.2 Install tensorflow object detection api & protocol buffers"
   ]
  },
  {
   "cell_type": "code",
   "execution_count": null,
   "id": "fcfdc2b8-e7ce-4cef-b559-c886acf259c5",
   "metadata": {},
   "outputs": [],
   "source": [
    "!cd models/research && protoc object_detection/protos/*.proto --python_out=. && copy object_detection\\\\packages\\\\tf2\\\\setup.py setup.py && python setup.py build && python setup.py install\n",
    "!cd models/research/slim && pip install -e . "
   ]
  },
  {
   "cell_type": "markdown",
   "id": "a955d221-cb19-4e36-addd-c24c2b05c3fa",
   "metadata": {},
   "source": [
    "### 1.3 Verify Correct Installation"
   ]
  },
  {
   "cell_type": "code",
   "execution_count": 2,
   "id": "46da2a35-9727-481d-adae-6df57e229ed9",
   "metadata": {},
   "outputs": [
    {
     "name": "stderr",
     "output_type": "stream",
     "text": [
      "Running tests under Python 3.9.12: C:\\ProgramData\\Anaconda3\\python.exe\n",
      "[ RUN      ] ModelBuilderTF2Test.test_create_center_net_deepmac\n",
      "2022-08-19 04:54:00.500047: I tensorflow/core/platform/cpu_feature_guard.cc:193] This TensorFlow binary is optimized with oneAPI Deep Neural Network Library (oneDNN) to use the following CPU instructions in performance-critical operations:  AVX AVX2\n",
      "To enable them in other operations, rebuild TensorFlow with the appropriate compiler flags.\n",
      "2022-08-19 04:54:00.833547: I tensorflow/core/common_runtime/gpu/gpu_device.cc:1532] Created device /job:localhost/replica:0/task:0/device:GPU:0 with 7446 MB memory:  -> device: 0, name: NVIDIA GeForce RTX 3080, pci bus id: 0000:01:00.0, compute capability: 8.6\n",
      "C:\\ProgramData\\Anaconda3\\lib\\site-packages\\object_detection\\builders\\model_builder.py:1102: DeprecationWarning: The 'warn' function is deprecated, use 'warning' instead\n",
      "  logging.warn(('Building experimental DeepMAC meta-arch.'\n",
      "W0819 04:54:01.148384 32880 model_builder.py:1102] Building experimental DeepMAC meta-arch. Some features may be omitted.\n",
      "INFO:tensorflow:time(__main__.ModelBuilderTF2Test.test_create_center_net_deepmac): 0.84s\n",
      "I0819 04:54:01.334634 32880 test_util.py:2458] time(__main__.ModelBuilderTF2Test.test_create_center_net_deepmac): 0.84s\n",
      "[       OK ] ModelBuilderTF2Test.test_create_center_net_deepmac\n",
      "[ RUN      ] ModelBuilderTF2Test.test_create_center_net_model0 (customize_head_params=True)\n",
      "INFO:tensorflow:time(__main__.ModelBuilderTF2Test.test_create_center_net_model0 (customize_head_params=True)): 0.48s\n",
      "I0819 04:54:01.812917 32880 test_util.py:2458] time(__main__.ModelBuilderTF2Test.test_create_center_net_model0 (customize_head_params=True)): 0.48s\n",
      "[       OK ] ModelBuilderTF2Test.test_create_center_net_model0 (customize_head_params=True)\n",
      "[ RUN      ] ModelBuilderTF2Test.test_create_center_net_model1 (customize_head_params=False)\n",
      "INFO:tensorflow:time(__main__.ModelBuilderTF2Test.test_create_center_net_model1 (customize_head_params=False)): 0.12s\n",
      "I0819 04:54:01.932117 32880 test_util.py:2458] time(__main__.ModelBuilderTF2Test.test_create_center_net_model1 (customize_head_params=False)): 0.12s\n",
      "[       OK ] ModelBuilderTF2Test.test_create_center_net_model1 (customize_head_params=False)\n",
      "[ RUN      ] ModelBuilderTF2Test.test_create_center_net_model_from_keypoints\n",
      "INFO:tensorflow:time(__main__.ModelBuilderTF2Test.test_create_center_net_model_from_keypoints): 0.11s\n",
      "I0819 04:54:02.043735 32880 test_util.py:2458] time(__main__.ModelBuilderTF2Test.test_create_center_net_model_from_keypoints): 0.11s\n",
      "[       OK ] ModelBuilderTF2Test.test_create_center_net_model_from_keypoints\n",
      "[ RUN      ] ModelBuilderTF2Test.test_create_center_net_model_mobilenet\n",
      "INFO:tensorflow:time(__main__.ModelBuilderTF2Test.test_create_center_net_model_mobilenet): 0.83s\n",
      "I0819 04:54:02.873666 32880 test_util.py:2458] time(__main__.ModelBuilderTF2Test.test_create_center_net_model_mobilenet): 0.83s\n",
      "[       OK ] ModelBuilderTF2Test.test_create_center_net_model_mobilenet\n",
      "[ RUN      ] ModelBuilderTF2Test.test_create_experimental_model\n",
      "INFO:tensorflow:time(__main__.ModelBuilderTF2Test.test_create_experimental_model): 0.0s\n",
      "I0819 04:54:02.874162 32880 test_util.py:2458] time(__main__.ModelBuilderTF2Test.test_create_experimental_model): 0.0s\n",
      "[       OK ] ModelBuilderTF2Test.test_create_experimental_model\n",
      "[ RUN      ] ModelBuilderTF2Test.test_create_faster_rcnn_from_config_with_crop_feature0 (True)\n",
      "INFO:tensorflow:time(__main__.ModelBuilderTF2Test.test_create_faster_rcnn_from_config_with_crop_feature0 (True)): 0.09s\n",
      "I0819 04:54:02.962071 32880 test_util.py:2458] time(__main__.ModelBuilderTF2Test.test_create_faster_rcnn_from_config_with_crop_feature0 (True)): 0.09s\n",
      "[       OK ] ModelBuilderTF2Test.test_create_faster_rcnn_from_config_with_crop_feature0 (True)\n",
      "[ RUN      ] ModelBuilderTF2Test.test_create_faster_rcnn_from_config_with_crop_feature1 (False)\n",
      "INFO:tensorflow:time(__main__.ModelBuilderTF2Test.test_create_faster_rcnn_from_config_with_crop_feature1 (False)): 0.01s\n",
      "I0819 04:54:02.969025 32880 test_util.py:2458] time(__main__.ModelBuilderTF2Test.test_create_faster_rcnn_from_config_with_crop_feature1 (False)): 0.01s\n",
      "[       OK ] ModelBuilderTF2Test.test_create_faster_rcnn_from_config_with_crop_feature1 (False)\n",
      "[ RUN      ] ModelBuilderTF2Test.test_create_faster_rcnn_model_from_config_with_example_miner\n",
      "INFO:tensorflow:time(__main__.ModelBuilderTF2Test.test_create_faster_rcnn_model_from_config_with_example_miner): 0.01s\n",
      "I0819 04:54:02.975978 32880 test_util.py:2458] time(__main__.ModelBuilderTF2Test.test_create_faster_rcnn_model_from_config_with_example_miner): 0.01s\n",
      "[       OK ] ModelBuilderTF2Test.test_create_faster_rcnn_model_from_config_with_example_miner\n",
      "[ RUN      ] ModelBuilderTF2Test.test_create_faster_rcnn_models_from_config_faster_rcnn_with_matmul\n",
      "INFO:tensorflow:time(__main__.ModelBuilderTF2Test.test_create_faster_rcnn_models_from_config_faster_rcnn_with_matmul): 0.04s\n",
      "I0819 04:54:03.021176 32880 test_util.py:2458] time(__main__.ModelBuilderTF2Test.test_create_faster_rcnn_models_from_config_faster_rcnn_with_matmul): 0.04s\n",
      "[       OK ] ModelBuilderTF2Test.test_create_faster_rcnn_models_from_config_faster_rcnn_with_matmul\n",
      "[ RUN      ] ModelBuilderTF2Test.test_create_faster_rcnn_models_from_config_faster_rcnn_without_matmul\n",
      "INFO:tensorflow:time(__main__.ModelBuilderTF2Test.test_create_faster_rcnn_models_from_config_faster_rcnn_without_matmul): 0.04s\n",
      "I0819 04:54:03.062895 32880 test_util.py:2458] time(__main__.ModelBuilderTF2Test.test_create_faster_rcnn_models_from_config_faster_rcnn_without_matmul): 0.04s\n",
      "[       OK ] ModelBuilderTF2Test.test_create_faster_rcnn_models_from_config_faster_rcnn_without_matmul\n",
      "[ RUN      ] ModelBuilderTF2Test.test_create_faster_rcnn_models_from_config_mask_rcnn_with_matmul\n",
      "INFO:tensorflow:time(__main__.ModelBuilderTF2Test.test_create_faster_rcnn_models_from_config_mask_rcnn_with_matmul): 0.04s\n",
      "I0819 04:54:03.106602 32880 test_util.py:2458] time(__main__.ModelBuilderTF2Test.test_create_faster_rcnn_models_from_config_mask_rcnn_with_matmul): 0.04s\n",
      "[       OK ] ModelBuilderTF2Test.test_create_faster_rcnn_models_from_config_mask_rcnn_with_matmul\n",
      "[ RUN      ] ModelBuilderTF2Test.test_create_faster_rcnn_models_from_config_mask_rcnn_without_matmul\n",
      "INFO:tensorflow:time(__main__.ModelBuilderTF2Test.test_create_faster_rcnn_models_from_config_mask_rcnn_without_matmul): 0.04s\n",
      "I0819 04:54:03.150805 32880 test_util.py:2458] time(__main__.ModelBuilderTF2Test.test_create_faster_rcnn_models_from_config_mask_rcnn_without_matmul): 0.04s\n",
      "[       OK ] ModelBuilderTF2Test.test_create_faster_rcnn_models_from_config_mask_rcnn_without_matmul\n",
      "[ RUN      ] ModelBuilderTF2Test.test_create_rfcn_model_from_config\n",
      "INFO:tensorflow:time(__main__.ModelBuilderTF2Test.test_create_rfcn_model_from_config): 0.04s\n",
      "I0819 04:54:03.193518 32880 test_util.py:2458] time(__main__.ModelBuilderTF2Test.test_create_rfcn_model_from_config): 0.04s\n",
      "[       OK ] ModelBuilderTF2Test.test_create_rfcn_model_from_config\n",
      "[ RUN      ] ModelBuilderTF2Test.test_create_ssd_fpn_model_from_config\n",
      "INFO:tensorflow:time(__main__.ModelBuilderTF2Test.test_create_ssd_fpn_model_from_config): 0.01s\n",
      "I0819 04:54:03.206433 32880 test_util.py:2458] time(__main__.ModelBuilderTF2Test.test_create_ssd_fpn_model_from_config): 0.01s\n",
      "[       OK ] ModelBuilderTF2Test.test_create_ssd_fpn_model_from_config\n",
      "[ RUN      ] ModelBuilderTF2Test.test_create_ssd_models_from_config\n",
      "I0819 04:54:03.288382 32880 ssd_efficientnet_bifpn_feature_extractor.py:145] EfficientDet EfficientNet backbone version: efficientnet-b0\n",
      "I0819 04:54:03.288382 32880 ssd_efficientnet_bifpn_feature_extractor.py:147] EfficientDet BiFPN num filters: 64\n",
      "I0819 04:54:03.288382 32880 ssd_efficientnet_bifpn_feature_extractor.py:148] EfficientDet BiFPN num iterations: 3\n",
      "I0819 04:54:03.289376 32880 efficientnet_model.py:143] round_filter input=32 output=32\n",
      "I0819 04:54:03.297976 32880 efficientnet_model.py:143] round_filter input=32 output=32\n",
      "I0819 04:54:03.297976 32880 efficientnet_model.py:143] round_filter input=16 output=16\n",
      "I0819 04:54:03.326129 32880 efficientnet_model.py:143] round_filter input=16 output=16\n",
      "I0819 04:54:03.326129 32880 efficientnet_model.py:143] round_filter input=24 output=24\n",
      "I0819 04:54:03.397648 32880 efficientnet_model.py:143] round_filter input=24 output=24\n",
      "I0819 04:54:03.397648 32880 efficientnet_model.py:143] round_filter input=40 output=40\n",
      "I0819 04:54:03.468672 32880 efficientnet_model.py:143] round_filter input=40 output=40\n",
      "I0819 04:54:03.468672 32880 efficientnet_model.py:143] round_filter input=80 output=80\n",
      "I0819 04:54:03.574462 32880 efficientnet_model.py:143] round_filter input=80 output=80\n",
      "I0819 04:54:03.574958 32880 efficientnet_model.py:143] round_filter input=112 output=112\n",
      "I0819 04:54:03.683232 32880 efficientnet_model.py:143] round_filter input=112 output=112\n",
      "I0819 04:54:03.683232 32880 efficientnet_model.py:143] round_filter input=192 output=192\n",
      "I0819 04:54:03.834716 32880 efficientnet_model.py:143] round_filter input=192 output=192\n",
      "I0819 04:54:03.834716 32880 efficientnet_model.py:143] round_filter input=320 output=320\n",
      "I0819 04:54:03.872462 32880 efficientnet_model.py:143] round_filter input=1280 output=1280\n",
      "I0819 04:54:03.889349 32880 efficientnet_model.py:453] Building model efficientnet with params ModelConfig(width_coefficient=1.0, depth_coefficient=1.0, resolution=224, dropout_rate=0.2, blocks=(BlockConfig(input_filters=32, output_filters=16, kernel_size=3, num_repeat=1, expand_ratio=1, strides=(1, 1), se_ratio=0.25, id_skip=True, fused_conv=False, conv_type='depthwise'), BlockConfig(input_filters=16, output_filters=24, kernel_size=3, num_repeat=2, expand_ratio=6, strides=(2, 2), se_ratio=0.25, id_skip=True, fused_conv=False, conv_type='depthwise'), BlockConfig(input_filters=24, output_filters=40, kernel_size=5, num_repeat=2, expand_ratio=6, strides=(2, 2), se_ratio=0.25, id_skip=True, fused_conv=False, conv_type='depthwise'), BlockConfig(input_filters=40, output_filters=80, kernel_size=3, num_repeat=3, expand_ratio=6, strides=(2, 2), se_ratio=0.25, id_skip=True, fused_conv=False, conv_type='depthwise'), BlockConfig(input_filters=80, output_filters=112, kernel_size=5, num_repeat=3, expand_ratio=6, strides=(1, 1), se_ratio=0.25, id_skip=True, fused_conv=False, conv_type='depthwise'), BlockConfig(input_filters=112, output_filters=192, kernel_size=5, num_repeat=4, expand_ratio=6, strides=(2, 2), se_ratio=0.25, id_skip=True, fused_conv=False, conv_type='depthwise'), BlockConfig(input_filters=192, output_filters=320, kernel_size=3, num_repeat=1, expand_ratio=6, strides=(1, 1), se_ratio=0.25, id_skip=True, fused_conv=False, conv_type='depthwise')), stem_base_filters=32, top_base_filters=1280, activation='simple_swish', batch_norm='default', bn_momentum=0.99, bn_epsilon=0.001, weight_decay=5e-06, drop_connect_rate=0.2, depth_divisor=8, min_depth=None, use_se=True, input_channels=3, num_classes=1000, model_name='efficientnet', rescale_input=False, data_format='channels_last', dtype='float32')\n",
      "I0819 04:54:03.915176 32880 ssd_efficientnet_bifpn_feature_extractor.py:145] EfficientDet EfficientNet backbone version: efficientnet-b1\n",
      "I0819 04:54:03.915176 32880 ssd_efficientnet_bifpn_feature_extractor.py:147] EfficientDet BiFPN num filters: 88\n",
      "I0819 04:54:03.915176 32880 ssd_efficientnet_bifpn_feature_extractor.py:148] EfficientDet BiFPN num iterations: 4\n",
      "I0819 04:54:03.916169 32880 efficientnet_model.py:143] round_filter input=32 output=32\n",
      "I0819 04:54:03.924116 32880 efficientnet_model.py:143] round_filter input=32 output=32\n",
      "I0819 04:54:03.924116 32880 efficientnet_model.py:143] round_filter input=16 output=16\n",
      "I0819 04:54:03.982226 32880 efficientnet_model.py:143] round_filter input=16 output=16\n",
      "I0819 04:54:03.982226 32880 efficientnet_model.py:143] round_filter input=24 output=24\n",
      "I0819 04:54:04.089010 32880 efficientnet_model.py:143] round_filter input=24 output=24\n",
      "I0819 04:54:04.089010 32880 efficientnet_model.py:143] round_filter input=40 output=40\n",
      "I0819 04:54:04.198276 32880 efficientnet_model.py:143] round_filter input=40 output=40\n",
      "I0819 04:54:04.198276 32880 efficientnet_model.py:143] round_filter input=80 output=80\n",
      "I0819 04:54:04.341813 32880 efficientnet_model.py:143] round_filter input=80 output=80\n",
      "I0819 04:54:04.341813 32880 efficientnet_model.py:143] round_filter input=112 output=112\n",
      "I0819 04:54:04.483859 32880 efficientnet_model.py:143] round_filter input=112 output=112\n",
      "I0819 04:54:04.483859 32880 efficientnet_model.py:143] round_filter input=192 output=192\n",
      "I0819 04:54:04.749575 32880 efficientnet_model.py:143] round_filter input=192 output=192\n",
      "I0819 04:54:04.749575 32880 efficientnet_model.py:143] round_filter input=320 output=320\n",
      "I0819 04:54:04.819108 32880 efficientnet_model.py:143] round_filter input=1280 output=1280\n",
      "I0819 04:54:04.834008 32880 efficientnet_model.py:453] Building model efficientnet with params ModelConfig(width_coefficient=1.0, depth_coefficient=1.1, resolution=240, dropout_rate=0.2, blocks=(BlockConfig(input_filters=32, output_filters=16, kernel_size=3, num_repeat=1, expand_ratio=1, strides=(1, 1), se_ratio=0.25, id_skip=True, fused_conv=False, conv_type='depthwise'), BlockConfig(input_filters=16, output_filters=24, kernel_size=3, num_repeat=2, expand_ratio=6, strides=(2, 2), se_ratio=0.25, id_skip=True, fused_conv=False, conv_type='depthwise'), BlockConfig(input_filters=24, output_filters=40, kernel_size=5, num_repeat=2, expand_ratio=6, strides=(2, 2), se_ratio=0.25, id_skip=True, fused_conv=False, conv_type='depthwise'), BlockConfig(input_filters=40, output_filters=80, kernel_size=3, num_repeat=3, expand_ratio=6, strides=(2, 2), se_ratio=0.25, id_skip=True, fused_conv=False, conv_type='depthwise'), BlockConfig(input_filters=80, output_filters=112, kernel_size=5, num_repeat=3, expand_ratio=6, strides=(1, 1), se_ratio=0.25, id_skip=True, fused_conv=False, conv_type='depthwise'), BlockConfig(input_filters=112, output_filters=192, kernel_size=5, num_repeat=4, expand_ratio=6, strides=(2, 2), se_ratio=0.25, id_skip=True, fused_conv=False, conv_type='depthwise'), BlockConfig(input_filters=192, output_filters=320, kernel_size=3, num_repeat=1, expand_ratio=6, strides=(1, 1), se_ratio=0.25, id_skip=True, fused_conv=False, conv_type='depthwise')), stem_base_filters=32, top_base_filters=1280, activation='simple_swish', batch_norm='default', bn_momentum=0.99, bn_epsilon=0.001, weight_decay=5e-06, drop_connect_rate=0.2, depth_divisor=8, min_depth=None, use_se=True, input_channels=3, num_classes=1000, model_name='efficientnet', rescale_input=False, data_format='channels_last', dtype='float32')\n",
      "I0819 04:54:04.862318 32880 ssd_efficientnet_bifpn_feature_extractor.py:145] EfficientDet EfficientNet backbone version: efficientnet-b2\n",
      "I0819 04:54:04.862318 32880 ssd_efficientnet_bifpn_feature_extractor.py:147] EfficientDet BiFPN num filters: 112\n",
      "I0819 04:54:04.862318 32880 ssd_efficientnet_bifpn_feature_extractor.py:148] EfficientDet BiFPN num iterations: 5\n",
      "I0819 04:54:04.863312 32880 efficientnet_model.py:143] round_filter input=32 output=32\n",
      "I0819 04:54:04.870763 32880 efficientnet_model.py:143] round_filter input=32 output=32\n",
      "I0819 04:54:04.870763 32880 efficientnet_model.py:143] round_filter input=16 output=16\n",
      "I0819 04:54:04.926885 32880 efficientnet_model.py:143] round_filter input=16 output=16\n",
      "I0819 04:54:04.926885 32880 efficientnet_model.py:143] round_filter input=24 output=24\n",
      "I0819 04:54:05.033669 32880 efficientnet_model.py:143] round_filter input=24 output=24\n",
      "I0819 04:54:05.033669 32880 efficientnet_model.py:143] round_filter input=40 output=48\n",
      "I0819 04:54:05.139459 32880 efficientnet_model.py:143] round_filter input=40 output=48\n",
      "I0819 04:54:05.139459 32880 efficientnet_model.py:143] round_filter input=80 output=88\n",
      "I0819 04:54:05.295909 32880 efficientnet_model.py:143] round_filter input=80 output=88\n",
      "I0819 04:54:05.296406 32880 efficientnet_model.py:143] round_filter input=112 output=120\n",
      "I0819 04:54:05.447411 32880 efficientnet_model.py:143] round_filter input=112 output=120\n",
      "I0819 04:54:05.447411 32880 efficientnet_model.py:143] round_filter input=192 output=208\n",
      "I0819 04:54:05.635133 32880 efficientnet_model.py:143] round_filter input=192 output=208\n",
      "I0819 04:54:05.635629 32880 efficientnet_model.py:143] round_filter input=320 output=352\n",
      "I0819 04:54:05.707150 32880 efficientnet_model.py:143] round_filter input=1280 output=1408\n",
      "I0819 04:54:05.722049 32880 efficientnet_model.py:453] Building model efficientnet with params ModelConfig(width_coefficient=1.1, depth_coefficient=1.2, resolution=260, dropout_rate=0.3, blocks=(BlockConfig(input_filters=32, output_filters=16, kernel_size=3, num_repeat=1, expand_ratio=1, strides=(1, 1), se_ratio=0.25, id_skip=True, fused_conv=False, conv_type='depthwise'), BlockConfig(input_filters=16, output_filters=24, kernel_size=3, num_repeat=2, expand_ratio=6, strides=(2, 2), se_ratio=0.25, id_skip=True, fused_conv=False, conv_type='depthwise'), BlockConfig(input_filters=24, output_filters=40, kernel_size=5, num_repeat=2, expand_ratio=6, strides=(2, 2), se_ratio=0.25, id_skip=True, fused_conv=False, conv_type='depthwise'), BlockConfig(input_filters=40, output_filters=80, kernel_size=3, num_repeat=3, expand_ratio=6, strides=(2, 2), se_ratio=0.25, id_skip=True, fused_conv=False, conv_type='depthwise'), BlockConfig(input_filters=80, output_filters=112, kernel_size=5, num_repeat=3, expand_ratio=6, strides=(1, 1), se_ratio=0.25, id_skip=True, fused_conv=False, conv_type='depthwise'), BlockConfig(input_filters=112, output_filters=192, kernel_size=5, num_repeat=4, expand_ratio=6, strides=(2, 2), se_ratio=0.25, id_skip=True, fused_conv=False, conv_type='depthwise'), BlockConfig(input_filters=192, output_filters=320, kernel_size=3, num_repeat=1, expand_ratio=6, strides=(1, 1), se_ratio=0.25, id_skip=True, fused_conv=False, conv_type='depthwise')), stem_base_filters=32, top_base_filters=1280, activation='simple_swish', batch_norm='default', bn_momentum=0.99, bn_epsilon=0.001, weight_decay=5e-06, drop_connect_rate=0.2, depth_divisor=8, min_depth=None, use_se=True, input_channels=3, num_classes=1000, model_name='efficientnet', rescale_input=False, data_format='channels_last', dtype='float32')\n",
      "I0819 04:54:05.750359 32880 ssd_efficientnet_bifpn_feature_extractor.py:145] EfficientDet EfficientNet backbone version: efficientnet-b3\n",
      "I0819 04:54:05.750359 32880 ssd_efficientnet_bifpn_feature_extractor.py:147] EfficientDet BiFPN num filters: 160\n",
      "I0819 04:54:05.750359 32880 ssd_efficientnet_bifpn_feature_extractor.py:148] EfficientDet BiFPN num iterations: 6\n",
      "I0819 04:54:05.751352 32880 efficientnet_model.py:143] round_filter input=32 output=40\n",
      "I0819 04:54:05.758802 32880 efficientnet_model.py:143] round_filter input=32 output=40\n",
      "I0819 04:54:05.758802 32880 efficientnet_model.py:143] round_filter input=16 output=24\n",
      "I0819 04:54:05.814926 32880 efficientnet_model.py:143] round_filter input=16 output=24\n",
      "I0819 04:54:05.815423 32880 efficientnet_model.py:143] round_filter input=24 output=32\n",
      "I0819 04:54:05.924192 32880 efficientnet_model.py:143] round_filter input=24 output=32\n",
      "I0819 04:54:05.924192 32880 efficientnet_model.py:143] round_filter input=40 output=48\n",
      "I0819 04:54:06.031968 32880 efficientnet_model.py:143] round_filter input=40 output=48\n",
      "I0819 04:54:06.031968 32880 efficientnet_model.py:143] round_filter input=80 output=96\n",
      "I0819 04:54:06.213253 32880 efficientnet_model.py:143] round_filter input=80 output=96\n",
      "I0819 04:54:06.213750 32880 efficientnet_model.py:143] round_filter input=112 output=136\n",
      "I0819 04:54:06.398509 32880 efficientnet_model.py:143] round_filter input=112 output=136\n",
      "I0819 04:54:06.398509 32880 efficientnet_model.py:143] round_filter input=192 output=232\n",
      "I0819 04:54:06.616546 32880 efficientnet_model.py:143] round_filter input=192 output=232\n",
      "I0819 04:54:06.616546 32880 efficientnet_model.py:143] round_filter input=320 output=384\n",
      "I0819 04:54:06.687570 32880 efficientnet_model.py:143] round_filter input=1280 output=1536\n",
      "I0819 04:54:06.701475 32880 efficientnet_model.py:453] Building model efficientnet with params ModelConfig(width_coefficient=1.2, depth_coefficient=1.4, resolution=300, dropout_rate=0.3, blocks=(BlockConfig(input_filters=32, output_filters=16, kernel_size=3, num_repeat=1, expand_ratio=1, strides=(1, 1), se_ratio=0.25, id_skip=True, fused_conv=False, conv_type='depthwise'), BlockConfig(input_filters=16, output_filters=24, kernel_size=3, num_repeat=2, expand_ratio=6, strides=(2, 2), se_ratio=0.25, id_skip=True, fused_conv=False, conv_type='depthwise'), BlockConfig(input_filters=24, output_filters=40, kernel_size=5, num_repeat=2, expand_ratio=6, strides=(2, 2), se_ratio=0.25, id_skip=True, fused_conv=False, conv_type='depthwise'), BlockConfig(input_filters=40, output_filters=80, kernel_size=3, num_repeat=3, expand_ratio=6, strides=(2, 2), se_ratio=0.25, id_skip=True, fused_conv=False, conv_type='depthwise'), BlockConfig(input_filters=80, output_filters=112, kernel_size=5, num_repeat=3, expand_ratio=6, strides=(1, 1), se_ratio=0.25, id_skip=True, fused_conv=False, conv_type='depthwise'), BlockConfig(input_filters=112, output_filters=192, kernel_size=5, num_repeat=4, expand_ratio=6, strides=(2, 2), se_ratio=0.25, id_skip=True, fused_conv=False, conv_type='depthwise'), BlockConfig(input_filters=192, output_filters=320, kernel_size=3, num_repeat=1, expand_ratio=6, strides=(1, 1), se_ratio=0.25, id_skip=True, fused_conv=False, conv_type='depthwise')), stem_base_filters=32, top_base_filters=1280, activation='simple_swish', batch_norm='default', bn_momentum=0.99, bn_epsilon=0.001, weight_decay=5e-06, drop_connect_rate=0.2, depth_divisor=8, min_depth=None, use_se=True, input_channels=3, num_classes=1000, model_name='efficientnet', rescale_input=False, data_format='channels_last', dtype='float32')\n",
      "I0819 04:54:06.732766 32880 ssd_efficientnet_bifpn_feature_extractor.py:145] EfficientDet EfficientNet backbone version: efficientnet-b4\n",
      "I0819 04:54:06.732766 32880 ssd_efficientnet_bifpn_feature_extractor.py:147] EfficientDet BiFPN num filters: 224\n",
      "I0819 04:54:06.732766 32880 ssd_efficientnet_bifpn_feature_extractor.py:148] EfficientDet BiFPN num iterations: 7\n",
      "I0819 04:54:06.733758 32880 efficientnet_model.py:143] round_filter input=32 output=48\n",
      "I0819 04:54:06.741705 32880 efficientnet_model.py:143] round_filter input=32 output=48\n",
      "I0819 04:54:06.741705 32880 efficientnet_model.py:143] round_filter input=16 output=24\n",
      "I0819 04:54:06.796835 32880 efficientnet_model.py:143] round_filter input=16 output=24\n",
      "I0819 04:54:06.797332 32880 efficientnet_model.py:143] round_filter input=24 output=32\n",
      "I0819 04:54:06.940371 32880 efficientnet_model.py:143] round_filter input=24 output=32\n",
      "I0819 04:54:06.940371 32880 efficientnet_model.py:143] round_filter input=40 output=56\n",
      "I0819 04:54:07.197150 32880 efficientnet_model.py:143] round_filter input=40 output=56\n",
      "I0819 04:54:07.197150 32880 efficientnet_model.py:143] round_filter input=80 output=112\n",
      "I0819 04:54:07.424125 32880 efficientnet_model.py:143] round_filter input=80 output=112\n",
      "I0819 04:54:07.424125 32880 efficientnet_model.py:143] round_filter input=112 output=160\n",
      "I0819 04:54:07.653585 32880 efficientnet_model.py:143] round_filter input=112 output=160\n",
      "I0819 04:54:07.653585 32880 efficientnet_model.py:143] round_filter input=192 output=272\n",
      "I0819 04:54:07.957049 32880 efficientnet_model.py:143] round_filter input=192 output=272\n",
      "I0819 04:54:07.957049 32880 efficientnet_model.py:143] round_filter input=320 output=448\n",
      "I0819 04:54:08.035522 32880 efficientnet_model.py:143] round_filter input=1280 output=1792\n",
      "I0819 04:54:08.050918 32880 efficientnet_model.py:453] Building model efficientnet with params ModelConfig(width_coefficient=1.4, depth_coefficient=1.8, resolution=380, dropout_rate=0.4, blocks=(BlockConfig(input_filters=32, output_filters=16, kernel_size=3, num_repeat=1, expand_ratio=1, strides=(1, 1), se_ratio=0.25, id_skip=True, fused_conv=False, conv_type='depthwise'), BlockConfig(input_filters=16, output_filters=24, kernel_size=3, num_repeat=2, expand_ratio=6, strides=(2, 2), se_ratio=0.25, id_skip=True, fused_conv=False, conv_type='depthwise'), BlockConfig(input_filters=24, output_filters=40, kernel_size=5, num_repeat=2, expand_ratio=6, strides=(2, 2), se_ratio=0.25, id_skip=True, fused_conv=False, conv_type='depthwise'), BlockConfig(input_filters=40, output_filters=80, kernel_size=3, num_repeat=3, expand_ratio=6, strides=(2, 2), se_ratio=0.25, id_skip=True, fused_conv=False, conv_type='depthwise'), BlockConfig(input_filters=80, output_filters=112, kernel_size=5, num_repeat=3, expand_ratio=6, strides=(1, 1), se_ratio=0.25, id_skip=True, fused_conv=False, conv_type='depthwise'), BlockConfig(input_filters=112, output_filters=192, kernel_size=5, num_repeat=4, expand_ratio=6, strides=(2, 2), se_ratio=0.25, id_skip=True, fused_conv=False, conv_type='depthwise'), BlockConfig(input_filters=192, output_filters=320, kernel_size=3, num_repeat=1, expand_ratio=6, strides=(1, 1), se_ratio=0.25, id_skip=True, fused_conv=False, conv_type='depthwise')), stem_base_filters=32, top_base_filters=1280, activation='simple_swish', batch_norm='default', bn_momentum=0.99, bn_epsilon=0.001, weight_decay=5e-06, drop_connect_rate=0.2, depth_divisor=8, min_depth=None, use_se=True, input_channels=3, num_classes=1000, model_name='efficientnet', rescale_input=False, data_format='channels_last', dtype='float32')\n",
      "I0819 04:54:08.088666 32880 ssd_efficientnet_bifpn_feature_extractor.py:145] EfficientDet EfficientNet backbone version: efficientnet-b5\n",
      "I0819 04:54:08.088666 32880 ssd_efficientnet_bifpn_feature_extractor.py:147] EfficientDet BiFPN num filters: 288\n",
      "I0819 04:54:08.088666 32880 ssd_efficientnet_bifpn_feature_extractor.py:148] EfficientDet BiFPN num iterations: 7\n",
      "I0819 04:54:08.089659 32880 efficientnet_model.py:143] round_filter input=32 output=48\n",
      "I0819 04:54:08.097605 32880 efficientnet_model.py:143] round_filter input=32 output=48\n",
      "I0819 04:54:08.097605 32880 efficientnet_model.py:143] round_filter input=16 output=24\n",
      "I0819 04:54:08.186011 32880 efficientnet_model.py:143] round_filter input=16 output=24\n",
      "I0819 04:54:08.186011 32880 efficientnet_model.py:143] round_filter input=24 output=40\n",
      "I0819 04:54:08.377725 32880 efficientnet_model.py:143] round_filter input=24 output=40\n",
      "I0819 04:54:08.377725 32880 efficientnet_model.py:143] round_filter input=40 output=64\n",
      "I0819 04:54:08.566459 32880 efficientnet_model.py:143] round_filter input=40 output=64\n",
      "I0819 04:54:08.566459 32880 efficientnet_model.py:143] round_filter input=80 output=128\n",
      "I0819 04:54:08.826712 32880 efficientnet_model.py:143] round_filter input=80 output=128\n",
      "I0819 04:54:08.826712 32880 efficientnet_model.py:143] round_filter input=112 output=176\n",
      "I0819 04:54:09.089946 32880 efficientnet_model.py:143] round_filter input=112 output=176\n",
      "I0819 04:54:09.089946 32880 efficientnet_model.py:143] round_filter input=192 output=304\n",
      "I0819 04:54:09.429168 32880 efficientnet_model.py:143] round_filter input=192 output=304\n",
      "I0819 04:54:09.429168 32880 efficientnet_model.py:143] round_filter input=320 output=512\n",
      "I0819 04:54:09.536450 32880 efficientnet_model.py:143] round_filter input=1280 output=2048\n",
      "I0819 04:54:09.550355 32880 efficientnet_model.py:453] Building model efficientnet with params ModelConfig(width_coefficient=1.6, depth_coefficient=2.2, resolution=456, dropout_rate=0.4, blocks=(BlockConfig(input_filters=32, output_filters=16, kernel_size=3, num_repeat=1, expand_ratio=1, strides=(1, 1), se_ratio=0.25, id_skip=True, fused_conv=False, conv_type='depthwise'), BlockConfig(input_filters=16, output_filters=24, kernel_size=3, num_repeat=2, expand_ratio=6, strides=(2, 2), se_ratio=0.25, id_skip=True, fused_conv=False, conv_type='depthwise'), BlockConfig(input_filters=24, output_filters=40, kernel_size=5, num_repeat=2, expand_ratio=6, strides=(2, 2), se_ratio=0.25, id_skip=True, fused_conv=False, conv_type='depthwise'), BlockConfig(input_filters=40, output_filters=80, kernel_size=3, num_repeat=3, expand_ratio=6, strides=(2, 2), se_ratio=0.25, id_skip=True, fused_conv=False, conv_type='depthwise'), BlockConfig(input_filters=80, output_filters=112, kernel_size=5, num_repeat=3, expand_ratio=6, strides=(1, 1), se_ratio=0.25, id_skip=True, fused_conv=False, conv_type='depthwise'), BlockConfig(input_filters=112, output_filters=192, kernel_size=5, num_repeat=4, expand_ratio=6, strides=(2, 2), se_ratio=0.25, id_skip=True, fused_conv=False, conv_type='depthwise'), BlockConfig(input_filters=192, output_filters=320, kernel_size=3, num_repeat=1, expand_ratio=6, strides=(1, 1), se_ratio=0.25, id_skip=True, fused_conv=False, conv_type='depthwise')), stem_base_filters=32, top_base_filters=1280, activation='simple_swish', batch_norm='default', bn_momentum=0.99, bn_epsilon=0.001, weight_decay=5e-06, drop_connect_rate=0.2, depth_divisor=8, min_depth=None, use_se=True, input_channels=3, num_classes=1000, model_name='efficientnet', rescale_input=False, data_format='channels_last', dtype='float32')\n",
      "I0819 04:54:09.592572 32880 ssd_efficientnet_bifpn_feature_extractor.py:145] EfficientDet EfficientNet backbone version: efficientnet-b6\n",
      "I0819 04:54:09.593068 32880 ssd_efficientnet_bifpn_feature_extractor.py:147] EfficientDet BiFPN num filters: 384\n",
      "I0819 04:54:09.593068 32880 ssd_efficientnet_bifpn_feature_extractor.py:148] EfficientDet BiFPN num iterations: 8\n",
      "I0819 04:54:09.593565 32880 efficientnet_model.py:143] round_filter input=32 output=56\n",
      "I0819 04:54:09.601512 32880 efficientnet_model.py:143] round_filter input=32 output=56\n",
      "I0819 04:54:09.601512 32880 efficientnet_model.py:143] round_filter input=16 output=32\n",
      "I0819 04:54:09.690415 32880 efficientnet_model.py:143] round_filter input=16 output=32\n",
      "I0819 04:54:09.690415 32880 efficientnet_model.py:143] round_filter input=24 output=40\n",
      "I0819 04:54:10.027155 32880 efficientnet_model.py:143] round_filter input=24 output=40\n",
      "I0819 04:54:10.027652 32880 efficientnet_model.py:143] round_filter input=40 output=72\n",
      "I0819 04:54:10.251648 32880 efficientnet_model.py:143] round_filter input=40 output=72\n",
      "I0819 04:54:10.251648 32880 efficientnet_model.py:143] round_filter input=80 output=144\n",
      "I0819 04:54:10.537231 32880 efficientnet_model.py:143] round_filter input=80 output=144\n",
      "I0819 04:54:10.537231 32880 efficientnet_model.py:143] round_filter input=112 output=200\n",
      "I0819 04:54:10.828279 32880 efficientnet_model.py:143] round_filter input=112 output=200\n",
      "I0819 04:54:10.828279 32880 efficientnet_model.py:143] round_filter input=192 output=344\n",
      "I0819 04:54:11.222136 32880 efficientnet_model.py:143] round_filter input=192 output=344\n",
      "I0819 04:54:11.222136 32880 efficientnet_model.py:143] round_filter input=320 output=576\n",
      "I0819 04:54:11.329415 32880 efficientnet_model.py:143] round_filter input=1280 output=2304\n",
      "I0819 04:54:11.342825 32880 efficientnet_model.py:453] Building model efficientnet with params ModelConfig(width_coefficient=1.8, depth_coefficient=2.6, resolution=528, dropout_rate=0.5, blocks=(BlockConfig(input_filters=32, output_filters=16, kernel_size=3, num_repeat=1, expand_ratio=1, strides=(1, 1), se_ratio=0.25, id_skip=True, fused_conv=False, conv_type='depthwise'), BlockConfig(input_filters=16, output_filters=24, kernel_size=3, num_repeat=2, expand_ratio=6, strides=(2, 2), se_ratio=0.25, id_skip=True, fused_conv=False, conv_type='depthwise'), BlockConfig(input_filters=24, output_filters=40, kernel_size=5, num_repeat=2, expand_ratio=6, strides=(2, 2), se_ratio=0.25, id_skip=True, fused_conv=False, conv_type='depthwise'), BlockConfig(input_filters=40, output_filters=80, kernel_size=3, num_repeat=3, expand_ratio=6, strides=(2, 2), se_ratio=0.25, id_skip=True, fused_conv=False, conv_type='depthwise'), BlockConfig(input_filters=80, output_filters=112, kernel_size=5, num_repeat=3, expand_ratio=6, strides=(1, 1), se_ratio=0.25, id_skip=True, fused_conv=False, conv_type='depthwise'), BlockConfig(input_filters=112, output_filters=192, kernel_size=5, num_repeat=4, expand_ratio=6, strides=(2, 2), se_ratio=0.25, id_skip=True, fused_conv=False, conv_type='depthwise'), BlockConfig(input_filters=192, output_filters=320, kernel_size=3, num_repeat=1, expand_ratio=6, strides=(1, 1), se_ratio=0.25, id_skip=True, fused_conv=False, conv_type='depthwise')), stem_base_filters=32, top_base_filters=1280, activation='simple_swish', batch_norm='default', bn_momentum=0.99, bn_epsilon=0.001, weight_decay=5e-06, drop_connect_rate=0.2, depth_divisor=8, min_depth=None, use_se=True, input_channels=3, num_classes=1000, model_name='efficientnet', rescale_input=False, data_format='channels_last', dtype='float32')\n",
      "I0819 04:54:11.389511 32880 ssd_efficientnet_bifpn_feature_extractor.py:145] EfficientDet EfficientNet backbone version: efficientnet-b7\n",
      "I0819 04:54:11.390008 32880 ssd_efficientnet_bifpn_feature_extractor.py:147] EfficientDet BiFPN num filters: 384\n",
      "I0819 04:54:11.390008 32880 ssd_efficientnet_bifpn_feature_extractor.py:148] EfficientDet BiFPN num iterations: 8\n",
      "I0819 04:54:11.390505 32880 efficientnet_model.py:143] round_filter input=32 output=64\n",
      "I0819 04:54:11.397955 32880 efficientnet_model.py:143] round_filter input=32 output=64\n",
      "I0819 04:54:11.397955 32880 efficientnet_model.py:143] round_filter input=16 output=32\n",
      "I0819 04:54:11.511692 32880 efficientnet_model.py:143] round_filter input=16 output=32\n",
      "I0819 04:54:11.512188 32880 efficientnet_model.py:143] round_filter input=24 output=48\n",
      "I0819 04:54:11.766978 32880 efficientnet_model.py:143] round_filter input=24 output=48\n",
      "I0819 04:54:11.767475 32880 efficientnet_model.py:143] round_filter input=40 output=80\n",
      "I0819 04:54:12.016802 32880 efficientnet_model.py:143] round_filter input=40 output=80\n",
      "I0819 04:54:12.016802 32880 efficientnet_model.py:143] round_filter input=80 output=160\n",
      "I0819 04:54:12.378873 32880 efficientnet_model.py:143] round_filter input=80 output=160\n",
      "I0819 04:54:12.379369 32880 efficientnet_model.py:143] round_filter input=112 output=224\n",
      "I0819 04:54:12.870075 32880 efficientnet_model.py:143] round_filter input=112 output=224\n",
      "I0819 04:54:12.870075 32880 efficientnet_model.py:143] round_filter input=192 output=384\n",
      "I0819 04:54:13.335453 32880 efficientnet_model.py:143] round_filter input=192 output=384\n",
      "I0819 04:54:13.335453 32880 efficientnet_model.py:143] round_filter input=320 output=640\n",
      "I0819 04:54:13.476009 32880 efficientnet_model.py:143] round_filter input=1280 output=2560\n",
      "I0819 04:54:13.490412 32880 efficientnet_model.py:453] Building model efficientnet with params ModelConfig(width_coefficient=2.0, depth_coefficient=3.1, resolution=600, dropout_rate=0.5, blocks=(BlockConfig(input_filters=32, output_filters=16, kernel_size=3, num_repeat=1, expand_ratio=1, strides=(1, 1), se_ratio=0.25, id_skip=True, fused_conv=False, conv_type='depthwise'), BlockConfig(input_filters=16, output_filters=24, kernel_size=3, num_repeat=2, expand_ratio=6, strides=(2, 2), se_ratio=0.25, id_skip=True, fused_conv=False, conv_type='depthwise'), BlockConfig(input_filters=24, output_filters=40, kernel_size=5, num_repeat=2, expand_ratio=6, strides=(2, 2), se_ratio=0.25, id_skip=True, fused_conv=False, conv_type='depthwise'), BlockConfig(input_filters=40, output_filters=80, kernel_size=3, num_repeat=3, expand_ratio=6, strides=(2, 2), se_ratio=0.25, id_skip=True, fused_conv=False, conv_type='depthwise'), BlockConfig(input_filters=80, output_filters=112, kernel_size=5, num_repeat=3, expand_ratio=6, strides=(1, 1), se_ratio=0.25, id_skip=True, fused_conv=False, conv_type='depthwise'), BlockConfig(input_filters=112, output_filters=192, kernel_size=5, num_repeat=4, expand_ratio=6, strides=(2, 2), se_ratio=0.25, id_skip=True, fused_conv=False, conv_type='depthwise'), BlockConfig(input_filters=192, output_filters=320, kernel_size=3, num_repeat=1, expand_ratio=6, strides=(1, 1), se_ratio=0.25, id_skip=True, fused_conv=False, conv_type='depthwise')), stem_base_filters=32, top_base_filters=1280, activation='simple_swish', batch_norm='default', bn_momentum=0.99, bn_epsilon=0.001, weight_decay=5e-06, drop_connect_rate=0.2, depth_divisor=8, min_depth=None, use_se=True, input_channels=3, num_classes=1000, model_name='efficientnet', rescale_input=False, data_format='channels_last', dtype='float32')\n",
      "INFO:tensorflow:time(__main__.ModelBuilderTF2Test.test_create_ssd_models_from_config): 10.34s\n",
      "I0819 04:54:13.545542 32880 test_util.py:2458] time(__main__.ModelBuilderTF2Test.test_create_ssd_models_from_config): 10.34s\n",
      "[       OK ] ModelBuilderTF2Test.test_create_ssd_models_from_config\n",
      "[ RUN      ] ModelBuilderTF2Test.test_invalid_faster_rcnn_batchnorm_update\n",
      "INFO:tensorflow:time(__main__.ModelBuilderTF2Test.test_invalid_faster_rcnn_batchnorm_update): 0.0s\n",
      "I0819 04:54:13.549018 32880 test_util.py:2458] time(__main__.ModelBuilderTF2Test.test_invalid_faster_rcnn_batchnorm_update): 0.0s\n",
      "[       OK ] ModelBuilderTF2Test.test_invalid_faster_rcnn_batchnorm_update\n",
      "[ RUN      ] ModelBuilderTF2Test.test_invalid_first_stage_nms_iou_threshold\n",
      "INFO:tensorflow:time(__main__.ModelBuilderTF2Test.test_invalid_first_stage_nms_iou_threshold): 0.0s\n",
      "I0819 04:54:13.549515 32880 test_util.py:2458] time(__main__.ModelBuilderTF2Test.test_invalid_first_stage_nms_iou_threshold): 0.0s\n",
      "[       OK ] ModelBuilderTF2Test.test_invalid_first_stage_nms_iou_threshold\n",
      "[ RUN      ] ModelBuilderTF2Test.test_invalid_model_config_proto\n",
      "INFO:tensorflow:time(__main__.ModelBuilderTF2Test.test_invalid_model_config_proto): 0.0s\n",
      "I0819 04:54:13.550011 32880 test_util.py:2458] time(__main__.ModelBuilderTF2Test.test_invalid_model_config_proto): 0.0s\n",
      "[       OK ] ModelBuilderTF2Test.test_invalid_model_config_proto\n",
      "[ RUN      ] ModelBuilderTF2Test.test_invalid_second_stage_batch_size\n",
      "INFO:tensorflow:time(__main__.ModelBuilderTF2Test.test_invalid_second_stage_batch_size): 0.0s\n",
      "I0819 04:54:13.550508 32880 test_util.py:2458] time(__main__.ModelBuilderTF2Test.test_invalid_second_stage_batch_size): 0.0s\n",
      "[       OK ] ModelBuilderTF2Test.test_invalid_second_stage_batch_size\n",
      "[ RUN      ] ModelBuilderTF2Test.test_session\n",
      "[  SKIPPED ] ModelBuilderTF2Test.test_session\n",
      "[ RUN      ] ModelBuilderTF2Test.test_unknown_faster_rcnn_feature_extractor\n",
      "INFO:tensorflow:time(__main__.ModelBuilderTF2Test.test_unknown_faster_rcnn_feature_extractor): 0.0s\n",
      "I0819 04:54:13.551005 32880 test_util.py:2458] time(__main__.ModelBuilderTF2Test.test_unknown_faster_rcnn_feature_extractor): 0.0s\n",
      "[       OK ] ModelBuilderTF2Test.test_unknown_faster_rcnn_feature_extractor\n",
      "[ RUN      ] ModelBuilderTF2Test.test_unknown_meta_architecture\n",
      "INFO:tensorflow:time(__main__.ModelBuilderTF2Test.test_unknown_meta_architecture): 0.0s\n",
      "I0819 04:54:13.551501 32880 test_util.py:2458] time(__main__.ModelBuilderTF2Test.test_unknown_meta_architecture): 0.0s\n",
      "[       OK ] ModelBuilderTF2Test.test_unknown_meta_architecture\n",
      "[ RUN      ] ModelBuilderTF2Test.test_unknown_ssd_feature_extractor\n",
      "INFO:tensorflow:time(__main__.ModelBuilderTF2Test.test_unknown_ssd_feature_extractor): 0.0s\n",
      "I0819 04:54:13.551998 32880 test_util.py:2458] time(__main__.ModelBuilderTF2Test.test_unknown_ssd_feature_extractor): 0.0s\n",
      "[       OK ] ModelBuilderTF2Test.test_unknown_ssd_feature_extractor\n",
      "----------------------------------------------------------------------\n",
      "Ran 24 tests in 13.054s\n",
      "\n",
      "OK (skipped=1)\n"
     ]
    }
   ],
   "source": [
    "VERIFICATION_SCRIPT = os.path.join('models', 'research', 'object_detection', 'builders', 'model_builder_tf2_test.py')\n",
    "# Verify Installation\n",
    "!python {VERIFICATION_SCRIPT}"
   ]
  },
  {
   "cell_type": "code",
   "execution_count": 3,
   "id": "b863e96c-e93b-43cc-bc9c-63fd33e7970e",
   "metadata": {},
   "outputs": [
    {
     "name": "stdout",
     "output_type": "stream",
     "text": [
      "Requirement already satisfied: tensorflow in c:\\users\\nperi\\appdata\\roaming\\python\\python39\\site-packages (2.9.1)\n",
      "Requirement already satisfied: packaging in c:\\programdata\\anaconda3\\lib\\site-packages (from tensorflow) (21.3)\n",
      "Requirement already satisfied: h5py>=2.9.0 in c:\\programdata\\anaconda3\\lib\\site-packages (from tensorflow) (3.6.0)\n",
      "Requirement already satisfied: tensorboard<2.10,>=2.9 in c:\\users\\nperi\\appdata\\roaming\\python\\python39\\site-packages (from tensorflow) (2.9.1)\n",
      "Requirement already satisfied: keras-preprocessing>=1.1.1 in c:\\users\\nperi\\appdata\\roaming\\python\\python39\\site-packages (from tensorflow) (1.1.2)\n",
      "Requirement already satisfied: six>=1.12.0 in c:\\programdata\\anaconda3\\lib\\site-packages (from tensorflow) (1.16.0)\n",
      "Requirement already satisfied: tensorflow-io-gcs-filesystem>=0.23.1 in c:\\users\\nperi\\appdata\\roaming\\python\\python39\\site-packages (from tensorflow) (0.26.0)\n",
      "Requirement already satisfied: absl-py>=1.0.0 in c:\\users\\nperi\\appdata\\roaming\\python\\python39\\site-packages (from tensorflow) (1.1.0)\n",
      "Requirement already satisfied: flatbuffers<2,>=1.12 in c:\\users\\nperi\\appdata\\roaming\\python\\python39\\site-packages (from tensorflow) (1.12)\n",
      "Requirement already satisfied: numpy>=1.20 in c:\\users\\nperi\\appdata\\roaming\\python\\python39\\site-packages (from tensorflow) (1.21.6)\n",
      "Requirement already satisfied: opt-einsum>=2.3.2 in c:\\users\\nperi\\appdata\\roaming\\python\\python39\\site-packages (from tensorflow) (3.3.0)\n",
      "Requirement already satisfied: tensorflow-estimator<2.10.0,>=2.9.0rc0 in c:\\users\\nperi\\appdata\\roaming\\python\\python39\\site-packages (from tensorflow) (2.9.0)\n",
      "Requirement already satisfied: wrapt>=1.11.0 in c:\\programdata\\anaconda3\\lib\\site-packages (from tensorflow) (1.12.1)\n",
      "Collecting protobuf<3.20,>=3.9.2\n",
      "  Using cached protobuf-3.19.4-cp39-cp39-win_amd64.whl (895 kB)\n",
      "Requirement already satisfied: gast<=0.4.0,>=0.2.1 in c:\\users\\nperi\\appdata\\roaming\\python\\python39\\site-packages (from tensorflow) (0.4.0)\n",
      "Requirement already satisfied: libclang>=13.0.0 in c:\\users\\nperi\\appdata\\roaming\\python\\python39\\site-packages (from tensorflow) (14.0.1)\n",
      "Requirement already satisfied: termcolor>=1.1.0 in c:\\users\\nperi\\appdata\\roaming\\python\\python39\\site-packages (from tensorflow) (1.1.0)\n",
      "Requirement already satisfied: google-pasta>=0.1.1 in c:\\users\\nperi\\appdata\\roaming\\python\\python39\\site-packages (from tensorflow) (0.2.0)\n",
      "Requirement already satisfied: setuptools in c:\\programdata\\anaconda3\\lib\\site-packages (from tensorflow) (61.2.0)\n",
      "Requirement already satisfied: keras<2.10.0,>=2.9.0rc0 in c:\\users\\nperi\\appdata\\roaming\\python\\python39\\site-packages (from tensorflow) (2.9.0)\n",
      "Requirement already satisfied: astunparse>=1.6.0 in c:\\users\\nperi\\appdata\\roaming\\python\\python39\\site-packages (from tensorflow) (1.6.3)\n",
      "Requirement already satisfied: typing-extensions>=3.6.6 in c:\\programdata\\anaconda3\\lib\\site-packages (from tensorflow) (4.1.1)\n",
      "Requirement already satisfied: grpcio<2.0,>=1.24.3 in c:\\programdata\\anaconda3\\lib\\site-packages (from tensorflow) (1.42.0)\n",
      "Requirement already satisfied: wheel<1.0,>=0.23.0 in c:\\programdata\\anaconda3\\lib\\site-packages (from astunparse>=1.6.0->tensorflow) (0.37.1)\n",
      "Requirement already satisfied: tensorboard-plugin-wit>=1.6.0 in c:\\users\\nperi\\appdata\\roaming\\python\\python39\\site-packages (from tensorboard<2.10,>=2.9->tensorflow) (1.8.1)\n",
      "Requirement already satisfied: google-auth-oauthlib<0.5,>=0.4.1 in c:\\users\\nperi\\appdata\\roaming\\python\\python39\\site-packages (from tensorboard<2.10,>=2.9->tensorflow) (0.4.6)\n",
      "Requirement already satisfied: markdown>=2.6.8 in c:\\programdata\\anaconda3\\lib\\site-packages (from tensorboard<2.10,>=2.9->tensorflow) (3.3.4)\n",
      "Requirement already satisfied: google-auth<3,>=1.6.3 in c:\\programdata\\anaconda3\\lib\\site-packages (from tensorboard<2.10,>=2.9->tensorflow) (1.33.0)\n",
      "Requirement already satisfied: werkzeug>=1.0.1 in c:\\programdata\\anaconda3\\lib\\site-packages (from tensorboard<2.10,>=2.9->tensorflow) (2.0.3)\n",
      "Requirement already satisfied: tensorboard-data-server<0.7.0,>=0.6.0 in c:\\users\\nperi\\appdata\\roaming\\python\\python39\\site-packages (from tensorboard<2.10,>=2.9->tensorflow) (0.6.1)\n",
      "Requirement already satisfied: requests<3,>=2.21.0 in c:\\programdata\\anaconda3\\lib\\site-packages (from tensorboard<2.10,>=2.9->tensorflow) (2.27.1)\n",
      "Requirement already satisfied: pyasn1-modules>=0.2.1 in c:\\programdata\\anaconda3\\lib\\site-packages (from google-auth<3,>=1.6.3->tensorboard<2.10,>=2.9->tensorflow) (0.2.8)\n",
      "Requirement already satisfied: rsa<5,>=3.1.4 in c:\\programdata\\anaconda3\\lib\\site-packages (from google-auth<3,>=1.6.3->tensorboard<2.10,>=2.9->tensorflow) (4.7.2)\n",
      "Requirement already satisfied: cachetools<5.0,>=2.0.0 in c:\\programdata\\anaconda3\\lib\\site-packages (from google-auth<3,>=1.6.3->tensorboard<2.10,>=2.9->tensorflow) (4.2.2)\n",
      "Requirement already satisfied: requests-oauthlib>=0.7.0 in c:\\users\\nperi\\appdata\\roaming\\python\\python39\\site-packages (from google-auth-oauthlib<0.5,>=0.4.1->tensorboard<2.10,>=2.9->tensorflow) (1.3.1)\n",
      "Requirement already satisfied: pyasn1<0.5.0,>=0.4.6 in c:\\programdata\\anaconda3\\lib\\site-packages (from pyasn1-modules>=0.2.1->google-auth<3,>=1.6.3->tensorboard<2.10,>=2.9->tensorflow) (0.4.8)\n",
      "Requirement already satisfied: urllib3<1.27,>=1.21.1 in c:\\programdata\\anaconda3\\lib\\site-packages (from requests<3,>=2.21.0->tensorboard<2.10,>=2.9->tensorflow) (1.26.9)\n",
      "Requirement already satisfied: certifi>=2017.4.17 in c:\\programdata\\anaconda3\\lib\\site-packages (from requests<3,>=2.21.0->tensorboard<2.10,>=2.9->tensorflow) (2021.10.8)\n",
      "Requirement already satisfied: charset-normalizer~=2.0.0 in c:\\programdata\\anaconda3\\lib\\site-packages (from requests<3,>=2.21.0->tensorboard<2.10,>=2.9->tensorflow) (2.0.4)\n",
      "Requirement already satisfied: idna<4,>=2.5 in c:\\programdata\\anaconda3\\lib\\site-packages (from requests<3,>=2.21.0->tensorboard<2.10,>=2.9->tensorflow) (3.3)\n",
      "Requirement already satisfied: oauthlib>=3.0.0 in c:\\users\\nperi\\appdata\\roaming\\python\\python39\\site-packages (from requests-oauthlib>=0.7.0->google-auth-oauthlib<0.5,>=0.4.1->tensorboard<2.10,>=2.9->tensorflow) (3.2.0)\n",
      "Requirement already satisfied: pyparsing!=3.0.5,>=2.0.2 in c:\\users\\nperi\\appdata\\roaming\\python\\python39\\site-packages (from packaging->tensorflow) (2.4.7)\n",
      "Installing collected packages: protobuf\n",
      "  Attempting uninstall: protobuf\n",
      "    Found existing installation: protobuf 3.20.1\n",
      "    Uninstalling protobuf-3.20.1:\n",
      "      Successfully uninstalled protobuf-3.20.1\n",
      "Successfully installed protobuf-3.19.4"
     ]
    },
    {
     "name": "stderr",
     "output_type": "stream",
     "text": [
      "WARNING: Ignoring invalid distribution -rotobuf (c:\\users\\nperi\\appdata\\roaming\\python\\python39\\site-packages)\n",
      "WARNING: Ignoring invalid distribution - (c:\\users\\nperi\\appdata\\roaming\\python\\python39\\site-packages)\n",
      "WARNING: Ignoring invalid distribution -rotobuf (c:\\users\\nperi\\appdata\\roaming\\python\\python39\\site-packages)\n",
      "WARNING: Ignoring invalid distribution - (c:\\users\\nperi\\appdata\\roaming\\python\\python39\\site-packages)\n",
      "WARNING: Ignoring invalid distribution -rotobuf (c:\\users\\nperi\\appdata\\roaming\\python\\python39\\site-packages)\n",
      "WARNING: Ignoring invalid distribution - (c:\\users\\nperi\\appdata\\roaming\\python\\python39\\site-packages)\n",
      "    WARNING: Ignoring invalid distribution -rotobuf (c:\\users\\nperi\\appdata\\roaming\\python\\python39\\site-packages)\n",
      "    WARNING: Ignoring invalid distribution - (c:\\users\\nperi\\appdata\\roaming\\python\\python39\\site-packages)\n",
      "WARNING: Ignoring invalid distribution -rotobuf (c:\\programdata\\anaconda3\\lib\\site-packages)\n",
      "WARNING: Ignoring invalid distribution -rotobuf (c:\\users\\nperi\\appdata\\roaming\\python\\python39\\site-packages)\n",
      "WARNING: Ignoring invalid distribution - (c:\\users\\nperi\\appdata\\roaming\\python\\python39\\site-packages)\n",
      "WARNING: Ignoring invalid distribution -rotobuf (c:\\users\\nperi\\appdata\\roaming\\python\\python39\\site-packages)\n",
      "WARNING: Ignoring invalid distribution - (c:\\users\\nperi\\appdata\\roaming\\python\\python39\\site-packages)\n",
      "WARNING: Ignoring invalid distribution -rotobuf (c:\\users\\nperi\\appdata\\roaming\\python\\python39\\site-packages)\n",
      "WARNING: Ignoring invalid distribution - (c:\\users\\nperi\\appdata\\roaming\\python\\python39\\site-packages)\n"
     ]
    },
    {
     "name": "stdout",
     "output_type": "stream",
     "text": [
      "\n"
     ]
    }
   ],
   "source": [
    "!pip install tensorflow --upgrade"
   ]
  },
  {
   "cell_type": "code",
   "execution_count": 4,
   "id": "7385c984-11d4-4f7c-a587-881fff49862b",
   "metadata": {},
   "outputs": [],
   "source": [
    "#Verify if object_detection can be imported"
   ]
  },
  {
   "cell_type": "code",
   "execution_count": 5,
   "id": "2241d3a0-a0bf-4e8e-9f89-db007c7a61c5",
   "metadata": {},
   "outputs": [],
   "source": [
    "import object_detection"
   ]
  },
  {
   "cell_type": "code",
   "execution_count": 6,
   "id": "810b1d75-58c2-4663-90fd-b5a67d6c5303",
   "metadata": {},
   "outputs": [
    {
     "name": "stdout",
     "output_type": "stream",
     "text": [
      "Package                       Version\n",
      "----------------------------- --------------------\n",
      "absl-py                       1.1.0\n",
      "aiohttp                       3.8.1\n",
      "aiosignal                     1.2.0\n",
      "alabaster                     0.7.12\n",
      "albumentations                1.2.0\n",
      "anaconda-client               1.9.0\n",
      "anaconda-navigator            2.2.0\n",
      "anaconda-project              0.10.2\n",
      "anyio                         3.5.0\n",
      "apache-beam                   2.40.0\n",
      "appdirs                       1.4.4\n",
      "argon2-cffi                   21.3.0\n",
      "argon2-cffi-bindings          21.2.0\n",
      "arrow                         1.2.2\n",
      "astroid                       2.6.6\n",
      "astropy                       5.0.4\n",
      "asttokens                     2.0.5\n",
      "astunparse                    1.6.3\n",
      "async-timeout                 4.0.1\n",
      "atomicwrites                  1.4.0\n",
      "attrs                         21.4.0\n",
      "Automat                       20.2.0\n",
      "autopep8                      1.6.0\n",
      "avro-python3                  1.10.2\n",
      "Babel                         2.9.1\n",
      "backcall                      0.2.0\n",
      "backports.functools-lru-cache 1.6.4\n",
      "backports.tempfile            1.0\n",
      "backports.weakref             1.0.post1\n",
      "bcrypt                        3.2.0\n",
      "beautifulsoup4                4.11.1\n",
      "binaryornot                   0.4.4\n",
      "bitarray                      2.4.1\n",
      "bkcharts                      0.2\n",
      "black                         19.10b0\n",
      "bleach                        4.1.0\n",
      "bokeh                         2.4.2\n",
      "boto3                         1.21.32\n",
      "botocore                      1.24.32\n",
      "Bottleneck                    1.3.4\n",
      "brotlipy                      0.7.0\n",
      "cachetools                    4.2.2\n",
      "certifi                       2021.10.8\n",
      "cffi                          1.15.0\n",
      "chardet                       4.0.0\n",
      "charset-normalizer            2.0.4\n",
      "click                         8.0.4\n",
      "cloudpickle                   2.1.0\n",
      "clyent                        1.2.2\n",
      "colorama                      0.4.4\n",
      "colorcet                      2.0.6\n",
      "comtypes                      1.1.10\n",
      "conda                         4.13.0\n",
      "conda-build                   3.21.8\n",
      "conda-content-trust           0+unknown\n",
      "conda-pack                    0.6.0\n",
      "conda-package-handling        1.8.1\n",
      "conda-repo-cli                1.0.4\n",
      "conda-token                   0.3.0\n",
      "conda-verify                  3.4.2\n",
      "constantly                    15.1.0\n",
      "contextlib2                   21.6.0\n",
      "cookiecutter                  1.7.3\n",
      "crcmod                        1.7\n",
      "cryptography                  3.4.8\n",
      "cssselect                     1.1.0\n",
      "cycler                        0.11.0\n",
      "Cython                        0.29.28\n",
      "cytoolz                       0.11.0\n",
      "daal4py                       2021.5.0\n",
      "dask                          2022.2.1\n",
      "datashader                    0.13.0\n",
      "datashape                     0.5.4\n",
      "debugpy                       1.5.1\n",
      "decorator                     5.1.1\n",
      "defusedxml                    0.7.1\n",
      "diff-match-patch              20200713\n",
      "dill                          0.3.1.1\n",
      "distributed                   2022.2.1\n",
      "dm-tree                       0.1.7\n",
      "docopt                        0.6.2\n",
      "docutils                      0.17.1\n",
      "entrypoints                   0.4\n",
      "et-xmlfile                    1.1.0\n",
      "etils                         0.6.0\n",
      "executing                     0.8.3\n",
      "fastavro                      1.5.2\n",
      "fastjsonschema                2.15.1\n",
      "filelock                      3.6.0\n",
      "flake8                        3.9.2\n",
      "Flask                         1.1.2\n",
      "flatbuffers                   1.12\n",
      "fonttools                     4.25.0\n",
      "frozenlist                    1.2.0\n",
      "fsspec                        2022.2.0\n",
      "future                        0.18.2\n",
      "gast                          0.4.0\n",
      "gensim                        4.1.2\n",
      "gin-config                    0.5.0\n",
      "glob2                         0.7\n",
      "google                        3.0.0\n",
      "google-api-core               1.31.5\n",
      "google-api-python-client      2.52.0\n",
      "google-auth                   1.33.0\n",
      "google-auth-httplib2          0.1.0\n",
      "google-auth-oauthlib          0.4.6\n",
      "google-cloud-core             1.7.1\n",
      "google-cloud-storage          1.31.0\n",
      "google-crc32c                 1.1.2\n",
      "google-pasta                  0.2.0\n",
      "google-resumable-media        1.3.1\n",
      "googleapis-common-protos      1.56.4\n",
      "greenlet                      1.1.1\n",
      "grpcio                        1.42.0\n",
      "h5py                          3.6.0\n",
      "hdfs                          2.7.0\n",
      "HeapDict                      1.0.1\n",
      "holoviews                     1.14.8\n",
      "httplib2                      0.20.4\n",
      "hvplot                        0.7.3\n",
      "hyperlink                     21.0.0\n",
      "idna                          3.3\n",
      "imagecodecs                   2021.8.26\n",
      "imageio                       2.9.0\n",
      "imagesize                     1.3.0\n",
      "importlib-metadata            4.11.3\n",
      "importlib-resources           5.8.0\n",
      "incremental                   21.3.0\n",
      "inflection                    0.5.1\n",
      "iniconfig                     1.1.1\n",
      "intake                        0.6.5\n",
      "intervaltree                  3.1.0\n",
      "ipykernel                     6.9.1\n",
      "ipython                       8.2.0\n",
      "ipython-genutils              0.2.0\n",
      "ipywidgets                    7.6.5\n",
      "isort                         5.9.3\n",
      "itemadapter                   0.3.0\n",
      "itemloaders                   1.0.4\n",
      "itsdangerous                  2.0.1\n",
      "jdcal                         1.4.1\n",
      "jedi                          0.18.1\n",
      "Jinja2                        2.11.3\n",
      "jinja2-time                   0.2.0\n",
      "jmespath                      0.10.0\n",
      "joblib                        1.1.0\n",
      "json5                         0.9.6\n",
      "jsonschema                    4.4.0\n",
      "jupyter                       1.0.0\n",
      "jupyter-client                6.1.12\n",
      "jupyter-console               6.4.0\n",
      "jupyter-core                  4.9.2\n",
      "jupyter-server                1.13.5\n",
      "jupyterlab                    3.3.2\n",
      "jupyterlab-pygments           0.1.2\n",
      "jupyterlab-server             2.10.3\n",
      "jupyterlab-widgets            1.0.0\n",
      "kaggle                        1.5.12\n",
      "keras                         2.9.0\n",
      "Keras-Preprocessing           1.1.2\n",
      "keyring                       23.4.0\n",
      "kiwisolver                    1.3.2\n",
      "lazy-object-proxy             1.6.0\n",
      "libarchive-c                  2.9\n",
      "libclang                      14.0.1\n",
      "llvmlite                      0.38.0\n",
      "locket                        0.2.1\n",
      "lvis                          0.5.3\n",
      "lxml                          4.8.0\n",
      "Markdown                      3.3.4\n",
      "MarkupSafe                    2.0.1\n",
      "matplotlib                    3.5.1\n",
      "matplotlib-inline             0.1.2\n",
      "mccabe                        0.6.1\n",
      "menuinst                      1.4.18\n",
      "mistune                       0.8.4\n",
      "mkl-fft                       1.3.1\n",
      "mkl-random                    1.2.2\n",
      "mkl-service                   2.4.0\n",
      "mock                          4.0.3\n",
      "mpmath                        1.2.1\n",
      "msgpack                       1.0.2\n",
      "multidict                     5.1.0\n",
      "multipledispatch              0.6.0\n",
      "munkres                       1.1.4\n",
      "mypy-extensions               0.4.3\n",
      "navigator-updater             0.2.1\n",
      "nbclassic                     0.3.5\n",
      "nbclient                      0.5.13\n",
      "nbconvert                     6.4.4\n",
      "nbformat                      5.3.0\n",
      "nest-asyncio                  1.5.5\n",
      "networkx                      2.7.1\n",
      "nltk                          3.7\n",
      "nose                          1.3.7\n",
      "notebook                      6.4.8\n",
      "numba                         0.55.1\n",
      "numexpr                       2.8.1\n",
      "numpy                         1.21.6\n",
      "numpydoc                      1.2\n",
      "oauth2client                  4.1.3\n",
      "oauthlib                      3.2.0\n",
      "object-detection              0.1\n",
      "olefile                       0.46\n",
      "opencv-python                 4.6.0.66\n",
      "opencv-python-headless        4.6.0.66\n",
      "openpyxl                      3.0.9\n",
      "opt-einsum                    3.3.0\n",
      "orjson                        3.7.7\n",
      "packaging                     21.3\n",
      "pandas                        1.4.2\n",
      "pandocfilters                 1.5.0\n",
      "panel                         0.13.0\n",
      "param                         1.12.0\n",
      "paramiko                      2.8.1\n",
      "parsel                        1.6.0\n",
      "parso                         0.8.3\n",
      "partd                         1.2.0\n",
      "pathspec                      0.7.0\n",
      "patsy                         0.5.2\n",
      "pep8                          1.7.1\n",
      "pexpect                       4.8.0\n",
      "pickleshare                   0.7.5\n",
      "Pillow                        9.0.1\n",
      "pip                           21.2.4\n",
      "pkginfo                       1.8.2\n",
      "plotly                        5.6.0\n",
      "pluggy                        1.0.0\n",
      "portalocker                   2.5.1\n",
      "poyo                          0.5.0\n",
      "prometheus-client             0.13.1\n",
      "promise                       2.3\n",
      "prompt-toolkit                3.0.20\n",
      "Protego                       0.1.16\n",
      "proto-plus                    1.20.6\n",
      "protobuf                      3.19.4\n",
      "psutil                        5.8.0\n",
      "ptyprocess                    0.7.0\n",
      "pure-eval                     0.2.2\n",
      "py                            1.11.0\n",
      "py-cpuinfo                    8.0.0\n",
      "pyarrow                       7.0.0\n",
      "pyasn1                        0.4.8\n",
      "pyasn1-modules                0.2.8\n",
      "pycocotools                   2.0\n",
      "pycodestyle                   2.7.0\n",
      "pycosat                       0.6.3\n",
      "pycparser                     2.21\n",
      "pyct                          0.4.6\n",
      "pycurl                        7.44.1\n",
      "PyDispatcher                  2.0.5\n",
      "pydocstyle                    6.1.1\n",
      "pydot                         1.4.2\n",
      "pyerfa                        2.0.0\n",
      "pyflakes                      2.3.1\n",
      "Pygments                      2.11.2\n",
      "PyHamcrest                    2.0.2\n",
      "PyJWT                         2.1.0\n",
      "pylint                        2.9.6\n",
      "pyls-spyder                   0.4.0\n",
      "pymongo                       3.12.3\n",
      "PyNaCl                        1.4.0\n",
      "pyodbc                        4.0.32\n",
      "pyOpenSSL                     21.0.0\n",
      "pyparsing                     2.4.7\n",
      "pyreadline                    2.1\n",
      "pyrsistent                    0.18.0\n",
      "PySocks                       1.7.1\n",
      "pytest                        7.1.1\n",
      "python-dateutil               2.8.2\n",
      "python-lsp-black              1.0.0\n",
      "python-lsp-jsonrpc            1.0.0\n",
      "python-lsp-server             1.2.4\n",
      "python-slugify                5.0.2\n",
      "python-snappy                 0.6.0\n",
      "pytz                          2021.3\n",
      "pyviz-comms                   2.0.2\n",
      "PyWavelets                    1.3.0\n",
      "pywin32                       302\n",
      "pywin32-ctypes                0.2.0\n",
      "pywinpty                      2.0.2\n",
      "PyYAML                        5.4.1\n",
      "pyzmq                         22.3.0\n",
      "QDarkStyle                    3.0.2\n",
      "qstylizer                     0.1.10\n",
      "QtAwesome                     1.0.3\n",
      "qtconsole                     5.3.0\n",
      "QtPy                          2.0.1\n",
      "qudida                        0.0.4\n",
      "queuelib                      1.5.0\n",
      "regex                         2022.3.15\n",
      "requests                      2.27.1\n",
      "requests-file                 1.5.1\n",
      "requests-oauthlib             1.3.1\n",
      "rope                          0.22.0\n",
      "rsa                           4.7.2\n",
      "Rtree                         0.9.7\n",
      "ruamel-yaml-conda             0.15.100\n",
      "s3transfer                    0.5.0\n",
      "sacrebleu                     2.1.0\n",
      "scikit-image                  0.18.3\n",
      "scikit-learn                  1.0.2\n",
      "scikit-learn-intelex          2021.20220215.102710\n",
      "scipy                         1.7.3\n",
      "Scrapy                        2.6.1\n",
      "seaborn                       0.11.2\n",
      "Send2Trash                    1.8.0\n",
      "sentencepiece                 0.1.96\n",
      "seqeval                       1.2.2\n",
      "service-identity              18.1.0\n",
      "setuptools                    61.2.0\n",
      "sip                           4.19.13\n",
      "six                           1.16.0\n",
      "smart-open                    5.1.0\n",
      "sniffio                       1.2.0\n",
      "snowballstemmer               2.2.0\n",
      "sortedcollections             2.1.0\n",
      "sortedcontainers              2.4.0\n",
      "soupsieve                     2.3.1\n",
      "Sphinx                        4.4.0\n",
      "sphinxcontrib-applehelp       1.0.2\n",
      "sphinxcontrib-devhelp         1.0.2\n",
      "sphinxcontrib-htmlhelp        2.0.0\n",
      "sphinxcontrib-jsmath          1.0.1\n",
      "sphinxcontrib-qthelp          1.0.3\n",
      "sphinxcontrib-serializinghtml 1.1.5\n",
      "spyder                        5.1.5\n",
      "spyder-kernels                2.1.3\n",
      "SQLAlchemy                    1.4.32\n",
      "stack-data                    0.2.0\n",
      "statsmodels                   0.13.2\n",
      "sympy                         1.10.1\n",
      "tables                        3.6.1\n",
      "tabulate                      0.8.9\n",
      "TBB                           0.2\n",
      "tblib                         1.7.0\n",
      "tenacity                      8.0.1\n",
      "tensorboard                   2.9.1\n",
      "tensorboard-data-server       0.6.1\n",
      "tensorboard-plugin-wit        1.8.1\n",
      "tensorflow                    2.9.1\n",
      "tensorflow-addons             0.17.1\n",
      "tensorflow-datasets           4.6.0\n",
      "tensorflow-estimator          2.9.0\n",
      "tensorflow-gpu                2.9.1\n",
      "tensorflow-hub                0.12.0\n",
      "tensorflow-io                 0.26.0\n",
      "tensorflow-io-gcs-filesystem  0.26.0\n",
      "tensorflow-metadata           1.9.0\n",
      "tensorflow-model-optimization 0.7.2\n",
      "tensorflow-text               2.9.0\n",
      "termcolor                     1.1.0\n",
      "terminado                     0.13.1\n",
      "testpath                      0.5.0\n",
      "text-unidecode                1.3\n",
      "textdistance                  4.2.1\n",
      "tf-models-official            2.9.2\n",
      "tf-slim                       1.1.0\n",
      "threadpoolctl                 2.2.0\n",
      "three-merge                   0.1.1\n",
      "tifffile                      2021.7.2\n",
      "tinycss                       0.4\n",
      "tldextract                    3.2.0\n",
      "toml                          0.10.2\n",
      "tomli                         1.2.2\n",
      "toolz                         0.11.2\n",
      "tornado                       6.1\n",
      "tqdm                          4.64.0\n",
      "traitlets                     5.1.1\n",
      "Twisted                       22.2.0\n",
      "twisted-iocpsupport           1.0.2\n",
      "typed-ast                     1.4.3\n",
      "typeguard                     2.13.3\n",
      "typing_extensions             4.1.1\n",
      "ujson                         5.1.0\n",
      "Unidecode                     1.2.0\n",
      "uritemplate                   4.1.1\n",
      "urllib3                       1.26.9\n",
      "w3lib                         1.21.0\n",
      "watchdog                      2.1.6\n",
      "wcwidth                       0.2.5\n",
      "webencodings                  0.5.1\n",
      "websocket-client              0.58.0\n",
      "Werkzeug                      2.0.3\n",
      "wget                          3.2\n",
      "wheel                         0.37.1\n",
      "widgetsnbextension            3.5.2\n",
      "win-inet-pton                 1.1.0\n",
      "win-unicode-console           0.5\n",
      "wincertstore                  0.2\n",
      "wrapt                         1.12.1\n",
      "xarray                        0.20.1\n",
      "xlrd                          2.0.1\n",
      "XlsxWriter                    3.0.3\n",
      "xlwings                       0.24.9\n",
      "yapf                          0.31.0\n",
      "yarl                          1.6.3\n",
      "zict                          2.0.0\n",
      "zipp                          3.7.0\n",
      "zope.interface                5.4.0\n"
     ]
    },
    {
     "name": "stderr",
     "output_type": "stream",
     "text": [
      "WARNING: Ignoring invalid distribution -rotobuf (c:\\users\\nperi\\appdata\\roaming\\python\\python39\\site-packages)\n",
      "WARNING: Ignoring invalid distribution - (c:\\users\\nperi\\appdata\\roaming\\python\\python39\\site-packages)\n",
      "WARNING: Ignoring invalid distribution -rotobuf (c:\\users\\nperi\\appdata\\roaming\\python\\python39\\site-packages)\n",
      "WARNING: Ignoring invalid distribution - (c:\\users\\nperi\\appdata\\roaming\\python\\python39\\site-packages)\n",
      "WARNING: Ignoring invalid distribution -rotobuf (c:\\users\\nperi\\appdata\\roaming\\python\\python39\\site-packages)\n",
      "WARNING: Ignoring invalid distribution - (c:\\users\\nperi\\appdata\\roaming\\python\\python39\\site-packages)\n",
      "WARNING: Ignoring invalid distribution -rotobuf (c:\\users\\nperi\\appdata\\roaming\\python\\python39\\site-packages)\n",
      "WARNING: Ignoring invalid distribution - (c:\\users\\nperi\\appdata\\roaming\\python\\python39\\site-packages)\n"
     ]
    }
   ],
   "source": [
    "!pip list"
   ]
  },
  {
   "cell_type": "markdown",
   "id": "3eb8a742-1c13-4957-868a-9dbc33b80bec",
   "metadata": {},
   "source": [
    "### 1.4 Download tensorflow model ssd_mobilenet_v2_fpnlite_320x320_coco17_tpu-8"
   ]
  },
  {
   "cell_type": "code",
   "execution_count": null,
   "id": "438c68a2-171d-437c-b58e-806da7c64ff6",
   "metadata": {},
   "outputs": [],
   "source": [
    "#https://github.com/tensorflow/models/blob/master/research/object_detection/g3doc/tf2_detection_zoo.md\n",
    "#right-click on model and paste into url"
   ]
  },
  {
   "cell_type": "code",
   "execution_count": null,
   "id": "63d4fd3b-ec0a-4af0-848b-6d3d79b1bdc4",
   "metadata": {},
   "outputs": [],
   "source": [
    "os.getcwd()"
   ]
  },
  {
   "cell_type": "code",
   "execution_count": 5,
   "id": "2c2dfe4a-b719-44c7-af47-1f75f2cacea8",
   "metadata": {},
   "outputs": [
    {
     "name": "stdout",
     "output_type": "stream",
     "text": [
      "100% [........................................................................] 20518283 / 20518283"
     ]
    },
    {
     "name": "stderr",
     "output_type": "stream",
     "text": [
      "A subdirectory or file pretrained_models already exists.\n"
     ]
    },
    {
     "name": "stdout",
     "output_type": "stream",
     "text": [
      "        1 file(s) moved.\n"
     ]
    },
    {
     "name": "stderr",
     "output_type": "stream",
     "text": [
      "x ssd_mobilenet_v2_fpnlite_640x640_coco17_tpu-8/\n",
      "x ssd_mobilenet_v2_fpnlite_640x640_coco17_tpu-8/checkpoint/\n",
      "x ssd_mobilenet_v2_fpnlite_640x640_coco17_tpu-8/checkpoint/ckpt-0.data-00000-of-00001\n",
      "x ssd_mobilenet_v2_fpnlite_640x640_coco17_tpu-8/checkpoint/checkpoint\n",
      "x ssd_mobilenet_v2_fpnlite_640x640_coco17_tpu-8/checkpoint/ckpt-0.index\n",
      "x ssd_mobilenet_v2_fpnlite_640x640_coco17_tpu-8/pipeline.config\n",
      "x ssd_mobilenet_v2_fpnlite_640x640_coco17_tpu-8/saved_model/\n",
      "x ssd_mobilenet_v2_fpnlite_640x640_coco17_tpu-8/saved_model/saved_model.pb\n",
      "x ssd_mobilenet_v2_fpnlite_640x640_coco17_tpu-8/saved_model/variables/\n",
      "x ssd_mobilenet_v2_fpnlite_640x640_coco17_tpu-8/saved_model/variables/variables.data-00000-of-00001\n",
      "x ssd_mobilenet_v2_fpnlite_640x640_coco17_tpu-8/saved_model/variables/variables.index\n"
     ]
    }
   ],
   "source": [
    "PRETRAINED_MODEL_NAME = 'ssd_resnet152_v1_fpn_640x640_coco17_tpu-8'\n",
    "PRETRAINED_MODEL_URL = 'http://download.tensorflow.org/models/object_detection/tf2/20200711/ssd_resnet152_v1_fpn_640x640_coco17_tpu-8.tar.gz'\n",
    "\n",
    "#!cd C:/Programming/Blackjack_counter_jupyter/models/research/object_detection\n",
    "#download and extract tf model from tf model zoo\n",
    "wget.download(PRETRAINED_MODEL_URL)\n",
    "!mkdir pretrained_models\n",
    "!move ssd_mobilenet_v2_fpnlite_640x640_coco17_tpu-8.tar.gz {os.path.join('pretrained_models')}\n",
    "!cd pretrained_models && tar -zxvf {PRETRAINED_MODEL_NAME+ '.tar.gz'}"
   ]
  },
  {
   "cell_type": "markdown",
   "id": "16caabba-95e6-4f63-8bf4-13e07c4467c1",
   "metadata": {},
   "source": [
    "# 1.5 Download playing card dataset in TFRecord format\n",
    "https://universe.roboflow.com/augmented-startups/playing-cards-ow27d "
   ]
  },
  {
   "cell_type": "code",
   "execution_count": null,
   "id": "6c5a811d-0b3e-4c7e-a0b6-b1a5f87291a2",
   "metadata": {},
   "outputs": [],
   "source": [
    "!mkdir data"
   ]
  },
  {
   "cell_type": "markdown",
   "id": "901000f5-bcb1-4cb1-8070-1af870484472",
   "metadata": {},
   "source": [
    "Select v1->TFRecord format-> and extract into /data folder"
   ]
  },
  {
   "attachments": {
    "47323e64-5bb6-4681-9363-d312c0ccad25.png": {
     "image/png": "[encoded data removed]"
    }
   },
   "cell_type": "markdown",
   "id": "7caedbe9-1e84-4014-b63b-35469ee9cb90",
   "metadata": {},
   "source": [
    "![image.png](attachment:47323e64-5bb6-4681-9363-d312c0ccad25.png)"
   ]
  },
  {
   "cell_type": "markdown",
   "id": "ec857f40-08b4-4acc-a30d-63596befbf54",
   "metadata": {},
   "source": [
    "# 2. Create Label Map"
   ]
  },
  {
   "cell_type": "code",
   "execution_count": null,
   "id": "1dcf8783-66d8-473a-ac55-9fc7040d9e52",
   "metadata": {},
   "outputs": [],
   "source": [
    "#52 cards: 13 x 4 (2->A, Clubs, Spades, Hearts, Diamonds)\n",
    "\n",
    "labels = [\n",
    "    {'name':'AH', 'id':1},\n",
    "    {'name' : '2H','id': 2},\n",
    "    {'name' : '3H','id': 3},\n",
    "    {'name' : '4H','id': 4},\n",
    "    {'name' : '5H','id': 5},\n",
    "    {'name' : '6H','id': 6},\n",
    "    {'name' : '7H','id': 7},\n",
    "    {'name' : '8H','id': 8},\n",
    "    {'name' : '9H','id': 9},\n",
    "    {'name' : '10H','id': 10},\n",
    "    {'name' : 'JH','id': 11},\n",
    "    {'name' : 'QH','id': 12},\n",
    "    {'name' : 'KH','id': 13},\n",
    "    {'name' : 'AS','id': 14},\n",
    "    {'name' : '2S','id': 15},\n",
    "    {'name' : '3S','id': 16},\n",
    "    {'name' : '4S','id': 17},\n",
    "    {'name' : '5S','id': 18},\n",
    "    {'name' : '6S','id': 19},\n",
    "    {'name' : '7S','id': 20},\n",
    "    {'name' : '8S','id': 21},\n",
    "    {'name' : '9S','id': 22},\n",
    "    {'name' : '10S','id': 23},\n",
    "    {'name' : 'JS','id': 24},\n",
    "    {'name' : 'QS','id': 25},\n",
    "    {'name' : 'KS','id': 26},\n",
    "    {'name' : 'AC','id': 27},\n",
    "    {'name' : '2C','id': 28},\n",
    "    {'name' : '3C','id': 29},\n",
    "    {'name' : '4C','id': 30},\n",
    "    {'name' : '5C','id': 31},\n",
    "    {'name' : '6C','id': 32},\n",
    "    {'name' : '7C','id': 33},\n",
    "    {'name' : '8C','id': 34},\n",
    "    {'name' : '9C','id': 35},\n",
    "    {'name' : '10C','id': 36},\n",
    "    {'name' : 'JC','id': 37},\n",
    "    {'name' : 'QC','id': 38},\n",
    "    {'name' : 'KC','id': 39},\n",
    "    {'name' : 'AD','id': 40},\n",
    "    {'name' : '2D','id': 41},\n",
    "    {'name' : '3D','id': 42},\n",
    "    {'name' : '4D','id': 43},\n",
    "    {'name' : '5D','id': 44},\n",
    "    {'name' : '6D','id': 45},\n",
    "    {'name' : '7D','id': 46},\n",
    "    {'name' : '8D','id': 47},\n",
    "    {'name' : '9D','id': 48},\n",
    "    {'name' : '10D','id': 49},\n",
    "    {'name' : 'JD','id': 50},\n",
    "    {'name' : 'QD','id': 51},\n",
    "    {'name' : 'KD','id': 52},\n",
    "]\n",
    "\n",
    "!mkdir LABEL_MAPS\n",
    "label_map_path = os.path.join('LABEL_MAPS','labelmap.pbtxt')\n",
    "with open(label_map_path, 'w') as f:\n",
    "    for label in labels:\n",
    "        f.write('item { \\n')\n",
    "        f.write('\\tname :\\'{}\\'\\n'.format(label['name'])) \n",
    "        f.write('\\tid : {}\\n'.format(label['id']))\n",
    "        f.write('}\\n')\n"
   ]
  },
  {
   "cell_type": "markdown",
   "id": "938e9387-ee0a-43a7-990a-19a1fb52d232",
   "metadata": {},
   "source": [
    "# 3. Create TFRecords"
   ]
  },
  {
   "cell_type": "markdown",
   "id": "1330dfb4-586d-4f85-9d2b-894553640955",
   "metadata": {},
   "source": [
    "### 3.1 Copy annotation csv files to one folder"
   ]
  },
  {
   "cell_type": "code",
   "execution_count": null,
   "id": "d1c05a52-77f9-4ea8-be9d-37953c9e87d3",
   "metadata": {},
   "outputs": [],
   "source": [
    "tf_record_script_path = os.path.join('scripts','blackjack_tfrecord_gen.py')\n",
    "\n",
    "train_images_path = os.path.join('data','train')\n",
    "train_annotations_path = os.path.join('data','train','_annotations.csv')\n",
    "\n",
    "test_images_path = os.path.join('data','test')\n",
    "test_annotations_path = os.path.join('data','test','_annotations.csv')\n",
    "\n",
    "val_images_path = os.path.join('data','val')\n",
    "val_annotations_path = os.path.join('data','valid','_annotations.csv')\n"
   ]
  },
  {
   "cell_type": "code",
   "execution_count": null,
   "id": "e18c14de-4a06-478c-b7d4-2f6baa4783e9",
   "metadata": {},
   "outputs": [],
   "source": [
    "#Need to edit the tfrecord script ot match label map"
   ]
  },
  {
   "cell_type": "markdown",
   "id": "93e421b5-2370-44b9-89d8-91d49d6e7bc6",
   "metadata": {},
   "source": [
    "### 4.1 Run tfrecord script for train/test/val"
   ]
  },
  {
   "cell_type": "code",
   "execution_count": null,
   "id": "a4db195f-8176-41a7-aa1e-6ad45ec79062",
   "metadata": {},
   "outputs": [],
   "source": [
    "!python {os.path.join('scripts','blackjack_tfrecord_gen.py')}  --csv_input={train_annotations_path} --output_path=data/train.record --image_dir={os.path.join('data','train')}"
   ]
  },
  {
   "cell_type": "code",
   "execution_count": null,
   "id": "6952a74f-d886-4b0a-82b0-5c16c98a5c44",
   "metadata": {},
   "outputs": [],
   "source": [
    "!python {os.path.join('scripts','blackjack_tfrecord_gen.py')}  --csv_input={test_annotations_path} --output_path=data/test.record --image_dir={os.path.join('data','test')}"
   ]
  },
  {
   "cell_type": "code",
   "execution_count": null,
   "id": "5d910243-9f4d-4c03-a70a-f4eac713283e",
   "metadata": {},
   "outputs": [],
   "source": [
    "!python {os.path.join('scripts','blackjack_tfrecord_gen.py')}  --csv_input={val_annotations_path} --output_path=data/val.record --image_dir={os.path.join('data','valid')}"
   ]
  },
  {
   "cell_type": "markdown",
   "id": "ab1b60d3-9240-465c-a51b-296a9afabc7e",
   "metadata": {},
   "source": [
    "### 5. Copy Model Config to Training Folder"
   ]
  },
  {
   "cell_type": "code",
   "execution_count": null,
   "id": "0ff2bf85-6e00-4644-adfa-1cdb5d08e6b4",
   "metadata": {},
   "outputs": [],
   "source": [
    "os.name"
   ]
  },
  {
   "cell_type": "code",
   "execution_count": null,
   "id": "766c34be-2a8d-41db-9daa-5314da2fc792",
   "metadata": {},
   "outputs": [],
   "source": [
    "!mkdir trained_models"
   ]
  },
  {
   "cell_type": "code",
   "execution_count": null,
   "id": "ae501c8a-0fdc-4163-9037-d8eda47a50cd",
   "metadata": {},
   "outputs": [],
   "source": [
    "os.getcwd()"
   ]
  },
  {
   "cell_type": "code",
   "execution_count": null,
   "id": "155dd21f-dd4a-48b5-a74d-a02b8cf2578a",
   "metadata": {},
   "outputs": [],
   "source": [
    "#security of folders: \"the sysetm cannot find the file specified\"\n",
    "#manually copied\n",
    "!copy {os.path.join(os.getcwd(),'pretrained_models','ssd_mobilenet_v2_fpnlite_640x640_coco17_tpu-8','pipeline.config')} {'model_checkpoints'}"
   ]
  },
  {
   "cell_type": "code",
   "execution_count": null,
   "id": "b2035a1b-82f9-4222-a931-4eea0a171815",
   "metadata": {},
   "outputs": [],
   "source": [
    "#!copy {os.path.join('scripts','pipeline.config')}"
   ]
  },
  {
   "cell_type": "markdown",
   "id": "5f0e49f1-5f97-4209-80b9-4738d2dee208",
   "metadata": {},
   "source": [
    "### 6. Update Model Pipeline Config for Transfer Learning"
   ]
  },
  {
   "cell_type": "code",
   "execution_count": 6,
   "id": "e552b9fc-932b-471b-a9f0-f02876fb75d3",
   "metadata": {},
   "outputs": [],
   "source": [
    "import tensorflow as tf\n",
    "from object_detection.utils import config_util\n",
    "from object_detection.protos import pipeline_pb2\n",
    "from google.protobuf import text_format\n",
    "#if error: ImportError: cannot import name 'builder' from 'google.protobuf.internal' (C:\\ProgramData\\Anaconda3\\lib\\site-packages\\google\\protobuf\\internal\\__init__.py\n",
    "#python -m pip install --upgrade protobuf, -> rerun protoc object_detection/protos/*.proto --python_out=.\n",
    "#for some reason 3.20.1 works, but 3.19.4 allows tensorboard to work\n",
    "#pip install protobuf==3.20.1"
   ]
  },
  {
   "cell_type": "code",
   "execution_count": null,
   "id": "f717f497-ec2d-4dca-a63d-9b3094cda340",
   "metadata": {},
   "outputs": [],
   "source": []
  },
  {
   "cell_type": "code",
   "execution_count": null,
   "id": "d3bec627-6d96-445d-b10a-6f3c7788b85f",
   "metadata": {},
   "outputs": [],
   "source": [
    "pipeline_config_filepath = os.path.join('pretrained_models','ssd_mobilenet_v2_fpnlite_640x640_coco17_tpu-8','pipeline.config')\n",
    "config = config_util.get_configs_from_pipeline_file(pipeline_config_filepath)\n"
   ]
  },
  {
   "cell_type": "code",
   "execution_count": null,
   "id": "e2b39244-8492-484e-ad38-63fc2014806f",
   "metadata": {},
   "outputs": [],
   "source": [
    "config "
   ]
  },
  {
   "cell_type": "code",
   "execution_count": null,
   "id": "caf83e6c-4f74-41b2-a508-176c685ca46c",
   "metadata": {},
   "outputs": [],
   "source": [
    "pipeline_config = pipeline_pb2.TrainEvalPipelineConfig()\n",
    "with tf.io.gfile.GFile(pipeline_config_filepath, \"r\") as f:                                                                                                                                                                                                                     \n",
    "    proto_str = f.read()                                                                                                                                                                                                                                          \n",
    "    text_format.Merge(proto_str, pipeline_config)  "
   ]
  },
  {
   "cell_type": "code",
   "execution_count": null,
   "id": "aeee7961-a8ae-43da-9267-1a53e8be93fc",
   "metadata": {},
   "outputs": [],
   "source": [
    "#Need to edit several parameters in the pipeline config:\n",
    "#1. number of classes = 52 \n",
    "#2. fine_tune_checkpoint file paths, \n",
    "#3. CHANGE classification->detection\n",
    "#4. train_input_config file path\n",
    "#5. eval_input paths"
   ]
  },
  {
   "cell_type": "code",
   "execution_count": null,
   "id": "de635ae0-895b-4e38-ba34-2d1ba496e0cf",
   "metadata": {},
   "outputs": [],
   "source": [
    "pipeline_config"
   ]
  },
  {
   "cell_type": "code",
   "execution_count": null,
   "id": "7705e9cf-0717-4014-b737-3713ba93af36",
   "metadata": {},
   "outputs": [],
   "source": [
    "pipeline_config.model.ssd.num_classes = 52 \n",
    "pipeline_config.train_config.batch_size = 4\n",
    "#edit this path if training is interrupted\n",
    "pipeline_config.train_config.fine_tune_checkpoint=os.path.join(os.getcwd(),'pretrained_models','ssd_mobilenet_v2_fpnlite_640x640_coco17_tpu-8','checkpoint','ckpt-0')\n",
    "\n",
    "#pipeline_config.train_config.fine_tune_checkpoint =\"C:/Programming/models/research/object_detection/ssd_mobilenet_v2_fpnlite_640x640_coco17_tpu-8/checkpoint/ckpt-0\"\n",
    "pipeline_config.train_config.fine_tune_checkpoint_type = \"detection\"\n",
    "pipeline_config.train_input_reader.label_map_path =os.path.join(os.getcwd(),'LABEL_MAPS','labelmap.pbtxt')  #\"C:/Programming/BJ_Counter/LABEL_MAPS/labelmap.pbtxt\"\n",
    "pipeline_config.train_input_reader.tf_record_input_reader.input_path[:] = [os.path.join(os.getcwd(),'data','train.record')]#\"C:/Programming/BJ_Counter/data/train.record\"]\n",
    "pipeline_config.eval_input_reader[0].label_map_path = os.path.join(os.getcwd(),'LABEL_MAPS','labelmap.pbtxt')#\"C:/Programming/BJ_Counter/LABEL_MAPS/labelmap.pbtxt\"\n",
    "pipeline_config.eval_input_reader[0].tf_record_input_reader.input_path[:] = [os.path.join(os.getcwd(),'data','test.record')]\n"
   ]
  },
  {
   "cell_type": "code",
   "execution_count": null,
   "id": "aab6f8fa-4c0c-4e6e-964b-f38941244da3",
   "metadata": {},
   "outputs": [],
   "source": [
    "#!copy \"C:/Programming/Blackjack_counter_jupyter/models/research/object_detection/ssd_mobilenet_v2_fpnlite_640x640_coco17_tpu-8/checkpoint/ckpt-0.index\""
   ]
  },
  {
   "cell_type": "code",
   "execution_count": null,
   "id": "4c035f0c-3af2-4f36-b83f-a4dfa68cff5a",
   "metadata": {},
   "outputs": [],
   "source": [
    "#verify that the changes required were made.\n",
    "pipeline_config"
   ]
  },
  {
   "cell_type": "code",
   "execution_count": null,
   "id": "cbbcfc21-27c3-4947-ac8d-7e0151a46770",
   "metadata": {},
   "outputs": [],
   "source": [
    "!mkdir pipeline_configs"
   ]
  },
  {
   "cell_type": "code",
   "execution_count": null,
   "id": "6e991ecb-6093-4759-b7e4-9998c33819a0",
   "metadata": {},
   "outputs": [],
   "source": [
    "os.getcwd()"
   ]
  },
  {
   "cell_type": "code",
   "execution_count": null,
   "id": "42c8b3dd-00ee-4bb0-8a2c-4546d01a4b21",
   "metadata": {},
   "outputs": [],
   "source": [
    "#Write file to directory\n",
    "config_text = text_format.MessageToString(pipeline_config)                                                                                                                                                                                                        \n",
    "with tf.io.gfile.GFile(os.path.join('pipeline_configs',f'{PRETRAINED_MODEL_NAME}_pipeline.config'), \"wb\") as f:                                                                                                                                                                                                                     \n",
    "    f.write(config_text)   "
   ]
  },
  {
   "cell_type": "markdown",
   "id": "41299689-7610-4c21-ac7a-45789723d7cd",
   "metadata": {},
   "source": [
    "### 7. Train Model Using Generated Command Line"
   ]
  },
  {
   "cell_type": "code",
   "execution_count": null,
   "id": "046a7ec7-7137-4b88-80d3-ee78e8e2130b",
   "metadata": {},
   "outputs": [],
   "source": [
    "!mkdir trained_models"
   ]
  },
  {
   "cell_type": "code",
   "execution_count": 7,
   "id": "ee70192a-1b9c-4458-94a5-9fc026334272",
   "metadata": {},
   "outputs": [
    {
     "name": "stdout",
     "output_type": "stream",
     "text": [
      "python model_main_tf2.py --model_dir=trained_models\\ssd_mobilenet_v2_fpnlite_640x640_coco17_tpu-8 --pipeline_config_path=pipeline_configs\\ssd_mobilenet_v2_fpnlite_640x640_coco17_tpu-8_pipeline.config --alsologtostderr\n"
     ]
    }
   ],
   "source": [
    "model_train_script = 'model_main_tf2.py'\n",
    "model_filepath= os.path.join('trained_models',f'{PRETRAINED_MODEL_NAME}')\n",
    "pipeline_filepath = os.path.join('pipeline_configs',f'{PRETRAINED_MODEL_NAME}_pipeline.config')\n",
    "command = \"python {} --model_dir={} --pipeline_config_path={} --alsologtostderr\".format(model_train_script,model_filepath, pipeline_filepath)\n",
    "#python model_main_tf2.py --pipeline_config_path=x/pipeline.config --model_dir=_____ --alsologtostderr\n",
    "print(command)"
   ]
  },
  {
   "cell_type": "code",
   "execution_count": null,
   "id": "13ec76ae-8b23-4dd8-8f81-13ced4f3bd75",
   "metadata": {},
   "outputs": [],
   "source": [
    "python model_main_tf2.py --model_dir=trained_models/SSD_RESNET152_V1_FPN_640x640_coco17_tpu8 --pipeline_config_path=pretrained_models\\ssd_resnet152_v1_fpn_640x640_coco17_tpu-8\\ssd_resnet152_v1_pipeline.config --alsologtostderr"
   ]
  },
  {
   "cell_type": "code",
   "execution_count": null,
   "id": "af1a71ee-7a5e-4123-812b-11f4209fd698",
   "metadata": {},
   "outputs": [],
   "source": [
    "python model_main_tf2.py --model_dir=trained_models/ssd_retry --pipeline_config_path=pretrained_models\\ssd_resnet152_v1_fpn_640x640_coco17_tpu-8\\ssd_resnet152_v1_pipeline.config --alsologtostderr"
   ]
  },
  {
   "cell_type": "code",
   "execution_count": 27,
   "id": "847db846-7ce8-465d-9353-6ed582f53342",
   "metadata": {},
   "outputs": [
    {
     "data": {
      "text/plain": [
       "'C:\\\\Programming\\\\Blackjack-Card-Counter-Object-Detection-main\\\\1.Train_and_Export_Neural Network'"
      ]
     },
     "execution_count": 27,
     "metadata": {},
     "output_type": "execute_result"
    }
   ],
   "source": [
    "os.getcwd()"
   ]
  },
  {
   "cell_type": "code",
   "execution_count": null,
   "id": "96181ccd-b350-4f7d-8a4f-bf7528708408",
   "metadata": {},
   "outputs": [],
   "source": [
    "#copy model_main_tf2.py to main folder\n",
    "!copy {os.path.join('models','research','object_detection','model_main_tf2.py')}"
   ]
  },
  {
   "cell_type": "code",
   "execution_count": 8,
   "id": "eb1df96d-98f5-4604-b45b-db228eb7aaf5",
   "metadata": {},
   "outputs": [],
   "source": [
    "#I prefer to run the command using the terminal to see live-feed"
   ]
  },
  {
   "cell_type": "markdown",
   "id": "9b6b21ab-f599-4d1a-9238-7b0eb20cb3bd",
   "metadata": {},
   "source": [
    "## You must make sure that the output model filepath for model_main_tf2.py is empty to avoid any errors!"
   ]
  },
  {
   "cell_type": "code",
   "execution_count": 9,
   "id": "7f148181-3117-4fe7-8f07-b106e7740e9c",
   "metadata": {},
   "outputs": [
    {
     "name": "stdout",
     "output_type": "stream",
     "text": [
      "^C\n"
     ]
    }
   ],
   "source": [
    "!{command}"
   ]
  },
  {
   "cell_type": "code",
   "execution_count": 10,
   "id": "bba9fbd0-ab32-48bd-a952-7e91189de0ae",
   "metadata": {},
   "outputs": [],
   "source": [
    "#You should see this in the terminal:"
   ]
  },
  {
   "attachments": {
    "37b32f23-6e89-45df-addd-590e6a8255e8.png": {
     "image/png": "[encoded data removed]"
    }
   },
   "cell_type": "markdown",
   "id": "111915a4-84f2-474e-b1eb-98f852de0b69",
   "metadata": {},
   "source": [
    "![image.png](attachment:37b32f23-6e89-45df-addd-590e6a8255e8.png)"
   ]
  },
  {
   "cell_type": "markdown",
   "id": "91a45240-35bb-41c1-acff-18cbb6ace648",
   "metadata": {},
   "source": [
    "### 8. Evaluate Model"
   ]
  },
  {
   "cell_type": "code",
   "execution_count": null,
   "id": "8e64da35-29a6-452d-b185-daaf8210786c",
   "metadata": {},
   "outputs": [],
   "source": [
    "model_train_script = 'model_main_tf2.py'\n",
    "model_filepath= os.path.join('trained_models',f'{PRETRAINED_MODEL_NAME}')\n",
    "pipeline_filepath = os.path.join('pipeline_configs',f'{PRETRAINED_MODEL_NAME}_pipeline.config')\n",
    "command = \"python {} --model_dir={} --pipeline_config_path={} --alsologtostderr\".format(model_train_script,model_filepath, pipeline_filepath)\n",
    "#python model_main_tf2.py --pipeline_config_path=x/pipeline.config --model_dir=_____ --alsologtostderr\n",
    "print(command)"
   ]
  },
  {
   "cell_type": "code",
   "execution_count": 11,
   "id": "8dc11618-7472-42c5-b795-6b0c630a4580",
   "metadata": {},
   "outputs": [
    {
     "name": "stdout",
     "output_type": "stream",
     "text": [
      "python model_main_tf2.py --model_dir=trained_models\\ssd_mobilenet_v2_fpnlite_640x640_coco17_tpu-8 --pipeline_config_path=pipeline_configs\\ssd_mobilenet_v2_fpnlite_640x640_coco17_tpu-8_pipeline.config --checkpoint_dir=trained_models\\ssd_mobilenet_v2_fpnlite_640x640_coco17_tpu-8 --alsologtostderr\n"
     ]
    }
   ],
   "source": [
    "model_train_script = 'model_main_tf2.py'\n",
    "model_filepath= os.path.join('trained_models',f'{PRETRAINED_MODEL_NAME}')\n",
    "pipeline_filepath = os.path.join('pipeline_configs',f'{PRETRAINED_MODEL_NAME}_pipeline.config')\n",
    "checkpoint_dir = os.path.join('trained_models',f'{PRETRAINED_MODEL_NAME}')\n",
    "command = \"python {} --model_dir={} --pipeline_config_path={} --checkpoint_dir={} --alsologtostderr\".format(model_train_script,model_filepath, pipeline_filepath,checkpoint_dir)\n",
    "#python model_main_tf2.py --pipeline_config_path=x/pipeline.config --model_dir=_____ --alsologtostderr\n",
    "print(command)"
   ]
  },
  {
   "cell_type": "code",
   "execution_count": null,
   "id": "db20cc14-0bc3-4bda-b87a-b516c8442222",
   "metadata": {
    "tags": []
   },
   "outputs": [],
   "source": [
    "### Load Train Model from Checkpoint"
   ]
  },
  {
   "cell_type": "markdown",
   "id": "14042fbe-920a-4b3d-bb0b-d20f4ce3d443",
   "metadata": {},
   "source": [
    "### 9. Export Inference Graph "
   ]
  },
  {
   "cell_type": "code",
   "execution_count": 20,
   "id": "9eea8cdb-71ec-4c85-ab0e-1053a918cbc7",
   "metadata": {},
   "outputs": [
    {
     "name": "stderr",
     "output_type": "stream",
     "text": [
      "A subdirectory or file inference_graph already exists.\n"
     ]
    },
    {
     "name": "stdout",
     "output_type": "stream",
     "text": [
      "        1 dir(s) moved.\n"
     ]
    }
   ],
   "source": [
    "!mkdir inference_graph\n",
    "!move {os.path.join('inference_graph')} {model_filepath}"
   ]
  },
  {
   "cell_type": "code",
   "execution_count": null,
   "id": "0f18a199-48ea-4293-89de-6061298b95db",
   "metadata": {},
   "outputs": [],
   "source": []
  },
  {
   "cell_type": "code",
   "execution_count": 22,
   "id": "7ce659f0-a931-4dd1-8dfe-f165ba37c3c4",
   "metadata": {},
   "outputs": [
    {
     "name": "stdout",
     "output_type": "stream",
     "text": [
      "python scripts\\exporter_main_v2.py --trained_checkpoint_dir=trained_models\\ssd_mobilenet_v2_fpnlite_640x640_coco17_tpu-8 --pipeline_config_path=pipeline_configs\\ssd_mobilenet_v2_fpnlite_640x640_coco17_tpu-8_pipeline.config --output_directory=trained_models\\ssd_mobilenet_v2_fpnlite_640x640_coco17_tpu-8\\inference_graph \n"
     ]
    }
   ],
   "source": [
    "exporter_script = os.path.join('scripts','exporter_main_v2.py')\n",
    "trained_checkpoint_dir = model_filepath\n",
    "pipeline_filepath = os.path.join('pipeline_configs',f'{PRETRAINED_MODEL_NAME}_pipeline.config')\n",
    "output_directory = os.path.join(model_filepath,'inference_graph')\n",
    "\n",
    "command = \"python {} --trained_checkpoint_dir={} --pipeline_config_path={} --output_directory={} \".format(exporter_script,trained_checkpoint_dir,pipeline_filepath,output_directory)\n",
    "print(command)\n",
    "#python {} --trained_checkpoint_dir={} --pipeline_config_path={} --output_directory /mydrive/customTF2/data/inference_graph"
   ]
  },
  {
   "cell_type": "code",
   "execution_count": null,
   "id": "d7c16143-1e84-49ae-9a85-7c1fed0ad99c",
   "metadata": {},
   "outputs": [],
   "source": [
    "!{command}"
   ]
  },
  {
   "cell_type": "markdown",
   "id": "123130d6-20a6-42d5-808f-26e27d5e40ec",
   "metadata": {},
   "source": [
    "#  9.1 Export Inference Graph as TFLite (OPTIONAL)"
   ]
  },
  {
   "cell_type": "code",
   "execution_count": null,
   "id": "cae257aa-ec02-4e0f-abcc-8e6e2a6e1edb",
   "metadata": {},
   "outputs": [],
   "source": [
    "#NOTE, NOT ALL MODELS CAN BE CONVERTED TO TFLite due to unsupported ops\n",
    "\n",
    "# Convert the model\n",
    "saved_model_dir=os.path.join('trained_models','efficientdet_d1_coco17_tpu-32','inference_graph','saved_model')\n",
    "\n",
    "#saved_model_dir = os.path.join('trained_model','inference_graph','saved_model')\n",
    "converter = tf.lite.TFLiteConverter.from_saved_model(saved_model_dir) # path to the SavedModel directory\n",
    "converter.target_spec.supported_ops = [\n",
    "  tf.lite.OpsSet.TFLITE_BUILTINS, # enable TensorFlow Lite ops.\n",
    "  tf.lite.OpsSet.SELECT_TF_OPS # enable TensorFlow ops.\n",
    "]\n",
    "efficientdet_tflite_model = converter.convert()\n",
    "\n",
    "# Save the model.\n",
    "with open('model.tflite', 'wb') as f:\n",
    "  f.write(efficientdet_tflite_model)"
   ]
  },
  {
   "cell_type": "code",
   "execution_count": null,
   "id": "284f8dbe-88ad-4ee3-a986-83c04a22b5ce",
   "metadata": {},
   "outputs": [],
   "source": [
    "#python models/research/object_detection/model_main_tf2.py --model_dir=/models/research/object_detection/ssd_mobilenet_v2_fpnlite_640x640_coco17_tpu-8/checkpoint --pipeline_config_path=model_checkpoints/pipeline.config --num_train_steps=2000 --logtostderr --train_dir=training/ "
   ]
  }
 ],
 "metadata": {
  "kernelspec": {
   "display_name": "Python 3 (ipykernel)",
   "language": "python",
   "name": "python3"
  },
  "language_info": {
   "codemirror_mode": {
    "name": "ipython",
    "version": 3
   },
   "file_extension": ".py",
   "mimetype": "text/x-python",
   "name": "python",
   "nbconvert_exporter": "python",
   "pygments_lexer": "ipython3",
   "version": "3.9.12"
  }
 },
 "nbformat": 4,
 "nbformat_minor": 5
}
