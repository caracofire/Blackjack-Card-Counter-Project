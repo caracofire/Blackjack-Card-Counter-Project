{
 "cells": [
  {
   "cell_type": "markdown",
   "id": "4d5e3394-b912-4e8d-baa1-0a7c40e44919",
   "metadata": {},
   "source": [
    "# Webcam Real-Time Object Detection (Blackjack Counter)"
   ]
  },
  {
   "cell_type": "markdown",
   "id": "acdf0c4d-8651-4825-a645-ce7b9edaaba3",
   "metadata": {},
   "source": [
    "## 1. Import Dependencies"
   ]
  },
  {
   "cell_type": "code",
   "execution_count": 1,
   "id": "d48f9459-2375-42b0-af0a-5d7576d2a26c",
   "metadata": {
    "tags": []
   },
   "outputs": [],
   "source": [
    "import os\n",
    "import time\n",
    "import tensorflow as tf\n",
    "import cv2\n",
    "import numpy as np\n",
    "\n",
    "#from utils import label_map_util\n",
    "from PIL import Image\n",
    "#from google.colab.patches import cv2_imshow\n",
    "from object_detection.utils import label_map_util\n",
    "from object_detection.utils import visualization_utils as viz_utils\n",
    "from IPython.display import HTML\n",
    "from base64 import b64encode\n"
   ]
  },
  {
   "cell_type": "markdown",
   "id": "65f70f02-c188-499f-b619-53d55a39f9f2",
   "metadata": {},
   "source": [
    "# 1.1 Filepaths"
   ]
  },
  {
   "cell_type": "code",
   "execution_count": 2,
   "id": "29cef876-5119-40a7-8549-2e063b79eee1",
   "metadata": {},
   "outputs": [],
   "source": [
    "PRETRAINED_MODEL_NAME='ssd_mobilenet_v2_fpnlite_640x640_coco17_tpu-8'"
   ]
  },
  {
   "cell_type": "code",
   "execution_count": 3,
   "id": "52ed4d03-6887-46b0-be6b-4ad7d328d5cd",
   "metadata": {},
   "outputs": [],
   "source": [
    "model_filepath= os.path.join('trained_models',f'{PRETRAINED_MODEL_NAME}')\n",
    "pipeline_filepath = os.path.join('pipeline_configs',f'{PRETRAINED_MODEL_NAME}_pipeline.config')"
   ]
  },
  {
   "cell_type": "code",
   "execution_count": 4,
   "id": "5f2e6aa1-2dd9-41f9-a5ee-4d6f15de3c6e",
   "metadata": {},
   "outputs": [],
   "source": [
    "from pathlib import Path"
   ]
  },
  {
   "cell_type": "code",
   "execution_count": 5,
   "id": "a2025d67-5318-4b2e-a432-04981b8a1ba4",
   "metadata": {},
   "outputs": [
    {
     "data": {
      "text/plain": [
       "'C:\\\\Programming\\\\Blackjack-Card-Counter-Object-Detection-main\\\\2.Real_Time_Object_Detection\\\\LABEL_MAPS\\\\labelmap.pbtxt'"
      ]
     },
     "execution_count": 5,
     "metadata": {},
     "output_type": "execute_result"
    }
   ],
   "source": [
    "os.path.join(os.getcwd(),'LABEL_MAPS','labelmap.pbtxt') "
   ]
  },
  {
   "cell_type": "code",
   "execution_count": 6,
   "id": "8b42749a-4855-4e9f-b6dc-99da81c0e187",
   "metadata": {},
   "outputs": [
    {
     "data": {
      "text/plain": [
       "'C:\\\\Programming\\\\Blackjack-Card-Counter-Object-Detection-main\\\\2.Real_Time_Object_Detection\\\\LABEL_MAPS\\\\labelmap.pbtxt'"
      ]
     },
     "execution_count": 6,
     "metadata": {},
     "output_type": "execute_result"
    }
   ],
   "source": [
    "os.path.join(os.getcwd(),'LABEL_MAPS','labelmap.pbtxt') "
   ]
  },
  {
   "cell_type": "code",
   "execution_count": 7,
   "id": "6492b9f1-61ef-4f7d-8c56-678267f5c641",
   "metadata": {},
   "outputs": [],
   "source": [
    "previous_dir = os.getcwd()[:-29] #i know that this is lazy, but I was rushing"
   ]
  },
  {
   "cell_type": "code",
   "execution_count": 8,
   "id": "1b9cc470-3e54-4a38-970d-41e0c4be69db",
   "metadata": {},
   "outputs": [],
   "source": [
    "#!copy C:\\\\Programming\\\\Blackjack-Card-Counter-Object-Detection-main\\\\1.Train_and_Export_Neural_Network\\\\trained_models\\\\ssd_mobilenet_v2_fpnlite_640x640_coco17_tpu-8\\\\inference_graph\\\\saved_model\\\\x.txt\""
   ]
  },
  {
   "cell_type": "markdown",
   "id": "0d07d2ec-e552-4d44-b9e2-6c3b30cf452d",
   "metadata": {
    "tags": []
   },
   "source": [
    "## 2. Import Saved Model and Label Map"
   ]
  },
  {
   "cell_type": "code",
   "execution_count": 9,
   "id": "2b72f292-febc-48f8-910e-7d9c5a7829a4",
   "metadata": {
    "tags": []
   },
   "outputs": [],
   "source": [
    "labelmap_dir = os.path.join(previous_dir,\"1.Train_and_Export_Neural_Network\\\\LABEL_MAPS\\\\labelmap.pbtxt\")\n",
    "category_index=label_map_util.create_category_index_from_labelmap(labelmap_dir,use_display_name=False)\n",
    "\n",
    "#category_index=label_map_util.create_category_index_from_labelmap(\"labelmap.pbtxt\",use_display_name=False)\n",
    "\n",
    "\n",
    "\n",
    "\n",
    "#category_index=label_map_util.create_category_index_from_labelmap(\"C:/Programming/BJC_Notebook/LABEL_MAPS/labelmap.pbtxt\",use_display_name=False)"
   ]
  },
  {
   "cell_type": "markdown",
   "id": "ac402543-5624-4846-954f-b4f20cee34a0",
   "metadata": {
    "tags": []
   },
   "source": [
    "### A. SSD_RESNET152_V1_FPN_640x640_COCO17_TPU8"
   ]
  },
  {
   "cell_type": "code",
   "execution_count": 10,
   "id": "843df3cc-3d5c-43ca-948c-744c1f203bee",
   "metadata": {
    "tags": []
   },
   "outputs": [],
   "source": [
    "#original ssd_resnet152\n",
    "#PATH_TO_SAVED_MODEL = \"C:/Programming/BJC_Notebook/trained_models/SSD_RESNET152_V1_FPN_640x640_COCO17_TPU8/inference_graph/saved_model\"\n",
    "\n",
    "#PATH_TO_SAVED_MODEL = os.path.join(os.getcwd()[:-29],\"1.Train_and_Export_Neural_Network\\\\{}\\\\inference_graph\\\\saved_model\".format(model_filepath))\n",
    "PATH_TO_SAVED_MODEL = os.path.join(previous_dir,\"1.Train_and_Export_Neural_Network\\\\{}\\\\inference_graph\\\\saved_model\".format(model_filepath))\n"
   ]
  },
  {
   "cell_type": "markdown",
   "id": "2455c6c2-564e-42e4-916a-6e5da172d94b",
   "metadata": {
    "tags": []
   },
   "source": [
    "### B. SSD_MOBILENET_V2_FPNLITE_640x640_COCO17_TPU-8"
   ]
  },
  {
   "cell_type": "code",
   "execution_count": 11,
   "id": "ae8de8b8-c983-4bbb-860b-ba51085a7af4",
   "metadata": {
    "tags": []
   },
   "outputs": [],
   "source": [
    "#PATH_TO_SAVED_MODEL = \"C:/Programming/BJC_Notebook/trained_model/inference_graph/saved_model\""
   ]
  },
  {
   "cell_type": "markdown",
   "id": "9d3de052-0bf4-45b4-a185-3a6d88c17c03",
   "metadata": {
    "tags": []
   },
   "source": [
    "### C. EFFICIENTDET_D1_COCO17_TPU-32"
   ]
  },
  {
   "cell_type": "code",
   "execution_count": 12,
   "id": "7545c318-3932-4914-8b46-01fef77581c0",
   "metadata": {
    "tags": []
   },
   "outputs": [],
   "source": [
    "#PATH_TO_SAVED_MODEL = \"C:/Programming/BJC_Notebook/trained_models/efficientdet_d1_coco17_tpu-32/inference_graph/saved_model\""
   ]
  },
  {
   "cell_type": "markdown",
   "id": "7550ffde-3c8b-4c39-9bf5-df5192f8f99c",
   "metadata": {
    "tags": []
   },
   "source": [
    "### D. Faster_R-CNN_ResNet101_V1_640x640"
   ]
  },
  {
   "cell_type": "code",
   "execution_count": 13,
   "id": "8e847ec1-6b32-47e8-b6bd-5d47e8c0b171",
   "metadata": {
    "tags": []
   },
   "outputs": [],
   "source": [
    "#\"C:/Programming/Bjc_notebook/trained_models/faster_rcnn_model_directory/inference_graph/saved_model\""
   ]
  },
  {
   "cell_type": "markdown",
   "id": "07d08088-0165-4997-8f5c-5d1d0c5b3315",
   "metadata": {
    "tags": []
   },
   "source": [
    "# 3. Draw Bounding Boxes and Save New Detections"
   ]
  },
  {
   "cell_type": "code",
   "execution_count": 14,
   "id": "37688f35-ad31-4c5c-ad39-8c7d617d4262",
   "metadata": {},
   "outputs": [],
   "source": [
    "def bbox_and_count(image, bboxes, labels, scores, thresh):\n",
    "    (h, w, d) = image.shape\n",
    "    for bbox, label, score in zip(bboxes, labels, scores):\n",
    "        #print(bbox)\n",
    "        if score > thresh:\n",
    "            #add this detection to current_detections for total count if it hasn't been detected before.\n",
    "            if label not in current_detections:\n",
    "                current_detections.append(label)\n",
    "            xmin, ymin = int(bbox[1]*w), int(bbox[0]*h)\n",
    "            xmax, ymax = int(bbox[3]*w), int(bbox[2]*h)\n",
    "            \n",
    "\n",
    "            cv2.rectangle(image, (xmin, ymin), (xmax, ymax), (255,153,255), 2)\n",
    "            cv2.putText(image, f\"{label}: {int(score*100)} %\", (xmin, ymin), cv2.FONT_HERSHEY_SIMPLEX, 1, (255,255,255), 2)\n",
    "\n",
    "    return image"
   ]
  },
  {
   "cell_type": "markdown",
   "id": "c4325dcf-486a-4e74-9f9a-0378b32df09e",
   "metadata": {},
   "source": [
    "# 4. Differentiate between Player and Dealer Hand"
   ]
  },
  {
   "cell_type": "code",
   "execution_count": 15,
   "id": "9a587d2b-8848-42d9-9e5a-f91ccd6101d6",
   "metadata": {
    "tags": []
   },
   "outputs": [],
   "source": [
    "#This function determines if the detected card belongs to the player or the dealer based on it's location\n",
    "#It will then call hand_total() to calculate the corresponding player/dealer's hand total\n",
    "#It will also call manage_user_hand to take care of mis-detections\n",
    "def player_or_dealer_hand(bboxes,labels,scores,score_thresh, dealer_detections, player_detections,dealer_hand_total,player_hand_total):\n",
    "    #dealer\n",
    "    soft_total = False\n",
    "\n",
    "    for bbox, label, score in zip(bboxes, labels, scores):\n",
    "        if score > score_thresh:\n",
    "            #if (bbox[0]<=0.5 and bbox[2]<=0.5):\n",
    "            if (bbox[2]<=0.5):\n",
    "                #add or remove a detection\n",
    "                dealer_detections = manage_user_hand(bbox,label, dealer_detections)\n",
    "\n",
    "                #calculate the sum of the dealer's hand\n",
    "                dealer_hand_total = hand_total(dealer_detections[0])[0]\n",
    "\n",
    "\n",
    "            #player\n",
    "            else:\n",
    "                #add or remove a detection\n",
    "                player_detections = manage_user_hand(bbox,label, player_detections)\n",
    "\n",
    "                #calculate the sum of the player's hand\n",
    "                player_hand_total = hand_total(player_detections[0])[0]\n",
    "\n",
    "    return dealer_detections, dealer_hand_total, player_detections, player_hand_total"
   ]
  },
  {
   "cell_type": "code",
   "execution_count": 16,
   "id": "9b4ba7b4-6a44-447a-88b4-0a30dd54023c",
   "metadata": {
    "tags": []
   },
   "outputs": [],
   "source": [
    "#This function handles mis-detections; i.e. remove card detections from previous round\n",
    "#detections is a 2-D array that stores: [[detected card],[mis-detection counter]]\n",
    "#every time a card isn't detected, we will increase the counter for misdetection counter and once the\n",
    "#card has not been detected for >20 times, that detection will be popped from the user's hand\n",
    "\n",
    "def manage_user_hand(bbox,label,detections):\n",
    "    if label not in detections[0]:\n",
    "        detections[0].append(label)\n",
    "        detections[1].append(0)\n",
    "\n",
    "    for index,x in enumerate(detections[0]):\n",
    "        if x != label:\n",
    "            detections[1][index] += 1\n",
    "        else: \n",
    "            detections[1][index] = 0 \n",
    "        if detections[1][index]>10:\n",
    "            detections[0].remove(x)\n",
    "            detections[1].pop(index)\n",
    "            \n",
    "            #hand_size = 5 #reset to recalculate\n",
    "    \n",
    "    return detections"
   ]
  },
  {
   "cell_type": "markdown",
   "id": "ef486685-cec5-4fa8-89de-8f15bb21d2ad",
   "metadata": {
    "tags": []
   },
   "source": [
    "# 5. Card Counting Functions"
   ]
  },
  {
   "cell_type": "markdown",
   "id": "392c4b8f-6bb1-4922-8f52-93dabefedd6f",
   "metadata": {
    "tags": []
   },
   "source": [
    "## 5.0 CURRENT COUNT OF DECK"
   ]
  },
  {
   "cell_type": "code",
   "execution_count": 17,
   "id": "f2e14d8a-4371-4c7a-9c4f-4991dab89176",
   "metadata": {
    "tags": []
   },
   "outputs": [],
   "source": [
    "#This function keeps track of the ENTIRE deck's count based on detected cards.\n",
    "#The key flaw for this method is that misdetections will skew the deck's count until the \"misdetected\" card comes out,\n",
    "#this error can be reduced by increasing the neural network's threshold for detecting a card\n",
    "#if card detected is 2<->6, add 1 to count, if 10,J,Q,K,A, Subtract 1 \n",
    "\n",
    "#more efficient way is to just pass count as a parameter and add/subtract based on new detection, however there are only 52 cards in a deck. Performance is not that big of a difference\n",
    "def current_count(current_detections):\n",
    "    count=0\n",
    "    for i in current_detections:\n",
    "            x=str(i)[:-1] \n",
    "            if x.isalpha() or (int(x)==10):\n",
    "                count -=1\n",
    "            elif (int(x)<7):\n",
    "                count= count + 1\n",
    "    return count, len(current_detections)\n",
    "\n"
   ]
  },
  {
   "cell_type": "markdown",
   "id": "03a0c613-c70e-4694-8384-908e7efc3185",
   "metadata": {},
   "source": [
    "## 5.1.0 Calculate Total Sum of a Hand "
   ]
  },
  {
   "cell_type": "markdown",
   "id": "f6cbd6a1-e020-4a9f-b44b-26172d932cd0",
   "metadata": {},
   "source": [
    "### 5.1.1 Calculate Sum of Cards excluding Aces First"
   ]
  },
  {
   "cell_type": "code",
   "execution_count": 18,
   "id": "de1535bc-60b6-4014-a32f-2e8eede776bf",
   "metadata": {
    "tags": []
   },
   "outputs": [],
   "source": [
    "#calculate sum of all non-ace cards in hand first\n",
    "\n",
    "def calculate_hand(hand_total,x):\n",
    "    if x.isalpha(): #J,Q,K \n",
    "        hand_total+=10\n",
    "    else: #2,3,4,5,6,7,8,9,10\n",
    "        hand_total=hand_total+int(x)\n",
    "    return hand_total"
   ]
  },
  {
   "cell_type": "markdown",
   "id": "2f5be8ba-1612-498a-90d0-f61830e052d2",
   "metadata": {},
   "source": [
    "### 5.1.2 Calculate Sum of Cards Including Aces"
   ]
  },
  {
   "cell_type": "code",
   "execution_count": 19,
   "id": "f0a4a8c5-ae22-4a0b-a103-7480537039de",
   "metadata": {
    "tags": []
   },
   "outputs": [],
   "source": [
    "#this function handles calculating the soft/hard totals of a hand given a list of detections\n",
    "#example : A,6 = 7/17, A,A,8 = 10/20, A,10,2 = 13\n",
    "\n",
    "#Calculate the hand's soft/hard total if it contains aces\n",
    "\n",
    "def hand_total(input_hand):\n",
    "    detections_list=input_hand\n",
    "    ace_count = 0 \n",
    "    card_total = 0\n",
    "    soft_total = False\n",
    "    for i in detections_list:\n",
    "        i = str(i)[:-1] #trim the suit character from each string in the list\n",
    "        \n",
    "        if (i =='A'): #count number of aces in hand\n",
    "            ace_count+=1\n",
    "        else: #only add the non-aces to the card total first\n",
    "            card_total = calculate_hand(card_total,i)\n",
    "\n",
    "    #adding aces to card total IF they exist:\n",
    "    remainder = 21-card_total #A,A,3,4 14\n",
    "    ace_11 = 0\n",
    "    \n",
    "    # >1 ace in hand\n",
    "    if (ace_count>0 and remainder/11>1):\n",
    "        ace_11 = 1\n",
    "        ace_count -= 1 #subtract the ace that became '11'\n",
    " \n",
    "        #if having an ace == 11 causes a bust, then every ace must equal 1\n",
    "        #need this if statement to account for aces = 1 causing a bust:\n",
    "        #i.e. A,A,10,A-> BUST if an ace = 11, \n",
    "        if ((card_total + ace_11*11 + (ace_count))>=21): \n",
    "            #convert the ace_11 to == 1 \n",
    "            ace_11 -=1\n",
    "            ace_count +=1\n",
    "        \n",
    "        card_total = card_total + ace_count * 1 + ace_11 * 11\n",
    "    else: \n",
    "        card_total = card_total + ace_count * 1\n",
    "    \n",
    "    if ace_11>0:\n",
    "        soft_total=True\n",
    "    \n",
    "    return card_total, soft_total"
   ]
  },
  {
   "cell_type": "markdown",
   "id": "387b47b5-01af-4a13-a6f9-4a1048f707c4",
   "metadata": {},
   "source": [
    "# 6.0 Calculate Best Move based on Dealer's hand, Player's Hand, and Current Count"
   ]
  },
  {
   "cell_type": "code",
   "execution_count": 20,
   "id": "fa348d21-5085-431d-9f78-140ab08ab6b1",
   "metadata": {},
   "outputs": [],
   "source": [
    "from S17_Calculate_Best_Move import *"
   ]
  },
  {
   "cell_type": "code",
   "execution_count": 21,
   "id": "9263ad29-d087-433d-a214-391d577aa1d5",
   "metadata": {},
   "outputs": [],
   "source": [
    "#run this to see what the functions will return "
   ]
  },
  {
   "cell_type": "markdown",
   "id": "25fca9a9-3160-4fa9-a750-6834e4c1363e",
   "metadata": {},
   "source": [
    "dealer_detections = [['2S','3S','4S','5S','6S','7S','8S','9S','10S','AS'],[5]]\n",
    "player_detections = [['6C','2S'],[5,9]]\n",
    "dealer_hand_total_LIST = [2,3,4,5,6,7,8,9,10,11] \n",
    "dealer_hand_total = 10\n",
    "count= 3"
   ]
  },
  {
   "cell_type": "markdown",
   "id": "26de9d32-032c-4828-b455-e13526e57b1b",
   "metadata": {
    "tags": []
   },
   "source": [
    "for i in dealer_hand_total_LIST:\n",
    "    #print(\"Ace pair:\")\n",
    "    print(\"Player Hand: \",player_detections[0])\n",
    "    print(\"Dealer total: \",i,\"\\n\\nPlay = \",(soft_17(player_detections, i, count)))\n",
    "    print()\n"
   ]
  },
  {
   "cell_type": "markdown",
   "id": "530516dd-5dea-4b8a-8e52-5dd40676c6ed",
   "metadata": {},
   "source": [
    "best_move = soft_17(player_detections,dealer_hand_total, count"
   ]
  },
  {
   "cell_type": "markdown",
   "id": "579fd0c3-a92e-46b0-aea3-16147d70df58",
   "metadata": {},
   "source": [
    "# 7.0 Initialize Variables before Main Loop"
   ]
  },
  {
   "cell_type": "code",
   "execution_count": 22,
   "id": "86d80bf8-be2e-4c67-96ba-84dce83610bd",
   "metadata": {},
   "outputs": [
    {
     "name": "stdout",
     "output_type": "stream",
     "text": [
      "Loading saved model ...\n",
      "Model Loaded!\n"
     ]
    }
   ],
   "source": [
    "#Used for total deck count\n",
    "\n",
    "current_detections= [] #Stores all detected cards \n",
    "count=0\n",
    "length = 0\n",
    "\n",
    "#Used for player/dealer hand totals\n",
    "\n",
    "dealer_hand_total=0\n",
    "player_hand_total=0\n",
    "\n",
    "#empty list for cards and # of loop iterations that they have not been detected while in hand\n",
    "        #[['QS'],[10]] ==> QS has been in the hand, and has not been detected for 10 iterations, if this counter hits 20, remove QS from detection list\n",
    "dealer_detections=[[],[]]\n",
    "player_detections=[[],[]]\n",
    "\n",
    "best_move = 'Hit'\n",
    "\n",
    "toggle_mode = False #False = no overlay, True = player vs dealer\n",
    "\n",
    "# define a video capture object\n",
    "video_capture = cv2.VideoCapture(0)\n",
    "\n",
    "# Load the model\n",
    "print(\"Loading saved model ...\")\n",
    "detect_fn = tf.saved_model.load(PATH_TO_SAVED_MODEL)\n",
    "print(\"Model Loaded!\")\n",
    "start_time = time.time()\n",
    "\n",
    "#Make sure to feed images the same resoltuion as the neural network was trained on.\n",
    "def make_640p():\n",
    "    video_capture.set(3, 640)\n",
    "    video_capture.set(4, 640)\n",
    "make_640p()\n",
    "\n",
    "frame_width = int(video_capture.get(cv2.CAP_PROP_FRAME_WIDTH))\n",
    "frame_height = int(video_capture.get(cv2.CAP_PROP_FRAME_HEIGHT))\n",
    "\n",
    "fps = int(video_capture.get(cv2.CAP_PROP_FPS))\n",
    "size = (frame_width, frame_height)\n",
    "\n",
    "#variables used for text/shape coordinates\n",
    "half_height=int(frame_height/2)\n",
    "\n",
    "\n",
    "dealer_hand_text_coords=tuple([int(0.1875*frame_width),int(0.052083*frame_height)])\n",
    "player_hand_text_coords=tuple([int(0.15625*frame_width),int(0.90625*frame_height)])\n",
    "    \n",
    "dealer_total_text_coords=tuple([int(0.1875*frame_width),int(0.104167*frame_height)])\n",
    "player_total_text_coords=tuple([int(0.15625*frame_width),int(0.95833*frame_height)])\n",
    "    \n",
    "deck_count_text_coords=tuple([int(0.039063*frame_width),int(0.104167*frame_height)])\n",
    "fps_text_coords=tuple([int(0.039063*frame_width),int(0.052083*frame_height)])\n",
    "\n",
    "best_move_text_coords=tuple([int(0.7*frame_width),int(0.95*frame_height)])\n"
   ]
  },
  {
   "cell_type": "markdown",
   "id": "1972cbc6-350c-45e1-a0a4-4c51cc7c2b3c",
   "metadata": {},
   "source": [
    "# 8. Main Loop"
   ]
  },
  {
   "cell_type": "code",
   "execution_count": 23,
   "id": "7c77e690-ee8b-4e54-bf72-7c7e4d4b17f9",
   "metadata": {},
   "outputs": [
    {
     "name": "stdout",
     "output_type": "stream",
     "text": [
      "Press 'q' to end the program.\n",
      "Press 'w' to toggle between Card Counting and Player vs. Dealer modes.\n",
      "Press 'r' to reset the count and the player/dealer hands and totals.\n"
     ]
    }
   ],
   "source": [
    "\n",
    "print(\"Press 'q' to end the program.\")\n",
    "print(\"Press 'w' to toggle between Card Counting and Player vs. Dealer modes.\")\n",
    "print(\"Press 'r' to reset the count and the player/dealer hands and totals.\")\n",
    "\n",
    "\n",
    "while(True):\n",
    "      \n",
    "    # Capture the video frame by frame\n",
    "    ret, frame = video_capture.read()\n",
    "\n",
    "    #toggle player vs dealer or basic card count mode\n",
    "    if cv2.waitKey(1) & 0xFF == ord('w'):\n",
    "        toggle_mode = not(toggle_mode)\n",
    "        \n",
    "    \n",
    "    # Kill switch\n",
    "    if cv2.waitKey(1) & 0xFF == ord('q'):\n",
    "        break\n",
    "        \n",
    "    #Reset memory switch\n",
    "    \n",
    "    if cv2.waitKey(1) & 0xFF == ord('r'): \n",
    "        \n",
    "        current_detections=[]\n",
    "        count=0\n",
    "        length=0\n",
    "        \n",
    "        dealer_detections=[[],[]]\n",
    "        player_detections=[[],[]]\n",
    "        \n",
    "        dealer_hand_total=0\n",
    "        player_hand_total=0\n",
    "        \n",
    "\n",
    "\n",
    "    frame = cv2.flip(frame, 1)\n",
    "    image_np = cv2.cvtColor(frame, cv2.COLOR_BGR2RGB)\n",
    "      # The input needs to be a tensor, convert it using `tf.convert_to_tensor`.\n",
    "      # The model expects a batch of images, so also add an axis with `tf.newaxis`.\n",
    "    input_tensor = tf.convert_to_tensor(image_np)[tf.newaxis, ...]\n",
    "\n",
    "      # Pass frame through detector\n",
    "    detections = detect_fn(input_tensor)\n",
    "    \n",
    "    #print(detections)\n",
    "    #detections == \"raw_detection_boxes\", \"detection_multiclass_Scores\", \"detection_anchor_+indices\", \"raw_detection_scores\", 'detection_scores', 'detection_boxes',\n",
    "        \n",
    "    # Set detection parameters\n",
    "\n",
    "    score_thresh = 0.75   # Minimum threshold for object detection\n",
    "    max_detections = 20\n",
    "\n",
    "      # All outputs are batches tensors.\n",
    "      # Convert to numpy arrays, and take index [0] to remove the batch dimension.\n",
    "      # We're only interested in the first num_detections.\n",
    "    scores = detections['detection_scores'][0, :max_detections].numpy()\n",
    "    bboxes = detections['detection_boxes'][0, :max_detections].numpy()\n",
    "    labels = detections['detection_classes'][0, :max_detections].numpy().astype(np.int64)\n",
    "    labels = [category_index[n]['name'] for n in labels]\n",
    "\n",
    "    # Display detections\n",
    "    \n",
    "    #1. DRAW BBOXES AND COUNT DECK\n",
    "    bbox_and_count(frame, bboxes, labels, scores, score_thresh)\n",
    "    \n",
    "    \n",
    "    #2. Check if a new card has been detected. If it has, then re-calculate the current count of the deck\n",
    "    if len(current_detections)>length:\n",
    "        count,length = current_count(current_detections)\n",
    "        \n",
    "    #3. CALCULATE PLAYER AND DEALER HAND TOTALS based on new detection location and confidence\n",
    "    dealer_detections,dealer_hand_total,player_detections, player_hand_total =player_or_dealer_hand(bboxes,labels,scores,score_thresh, dealer_detections, player_detections,dealer_hand_total,player_hand_total)\n",
    "   \n",
    "    \n",
    "    \n",
    "    #Current dealer and player hands\n",
    "    \n",
    "    if toggle_mode == True:\n",
    "    \n",
    "        cv2.putText(frame, f\"Dealer hand = : {dealer_detections}\", dealer_hand_text_coords, cv2.FONT_HERSHEY_SIMPLEX, 0.5, (255,0,255), 1)  \n",
    "        cv2.putText(frame, f\"Player hand = : {player_detections}\", player_hand_text_coords, cv2.FONT_HERSHEY_SIMPLEX, 0.5, (255,0,255), 1)\n",
    "\n",
    "        #dealer and player hand totals\n",
    "\n",
    "        cv2.putText(frame, f\"DEALER TOTAL = : {dealer_hand_total}\", dealer_total_text_coords, cv2.FONT_HERSHEY_SIMPLEX, 0.5, (255,0,255), 1)\n",
    "        cv2.putText(frame, f\"Player TOTAL = : {player_hand_total}\", player_total_text_coords, cv2.FONT_HERSHEY_SIMPLEX, 0.5, (255,0,255), 1)\n",
    "\n",
    "        #split screen in half to show dealer vs player\n",
    "        cv2.line(frame,(0,half_height),(frame_width,half_height),(255,0,255),2)\n",
    "        \n",
    "        #Calculate best move for player based on player's hand, dealer's hand total, and current count\n",
    "        \n",
    "        best_move = soft_17(player_detections,dealer_hand_total, count)\n",
    "        cv2.putText(frame, f\"Best Move: {best_move}\", best_move_text_coords, cv2.FONT_HERSHEY_SIMPLEX, 0.5, (255,0,255), 1)\n",
    "\n",
    "        \n",
    "    cv2.putText(frame, f\"Count: {count}\", deck_count_text_coords, cv2.FONT_HERSHEY_SIMPLEX, 0.5, (255,0,255), 1)\n",
    "    \n",
    "    #fps calculation\n",
    "    end_time = time.time()\n",
    "    fps = int(1/(end_time - start_time))\n",
    "    start_time = end_time\n",
    "    cv2.putText(frame, f\"FPS: {fps}\", fps_text_coords, cv2.FONT_HERSHEY_SIMPLEX, 0.5, (255,0,255), 1)\n",
    "    cv2.imshow(\"Object Detector\", frame)\n",
    "      \n",
    "    #Write output video\n",
    "    #result.write(frame)\n",
    "\n",
    "# After the loop release the cap object\n",
    "video_capture.release()\n",
    "# Destroy all the windows\n",
    "cv2.destroyAllWindows()\n"
   ]
  },
  {
   "cell_type": "code",
   "execution_count": 24,
   "id": "9bc1ecc7-3603-4df6-b367-49a1751161c2",
   "metadata": {},
   "outputs": [
    {
     "data": {
      "text/plain": [
       "10"
      ]
     },
     "execution_count": 24,
     "metadata": {},
     "output_type": "execute_result"
    }
   ],
   "source": [
    "dealer_hand_total"
   ]
  },
  {
   "cell_type": "code",
   "execution_count": null,
   "id": "16035391-a948-4fce-be74-f8736ce53abb",
   "metadata": {},
   "outputs": [],
   "source": []
  }
 ],
 "metadata": {
  "kernelspec": {
   "display_name": "Python 3 (ipykernel)",
   "language": "python",
   "name": "python3"
  },
  "language_info": {
   "codemirror_mode": {
    "name": "ipython",
    "version": 3
   },
   "file_extension": ".py",
   "mimetype": "text/x-python",
   "name": "python",
   "nbconvert_exporter": "python",
   "pygments_lexer": "ipython3",
   "version": "3.9.12"
  }
 },
 "nbformat": 4,
 "nbformat_minor": 5
}
